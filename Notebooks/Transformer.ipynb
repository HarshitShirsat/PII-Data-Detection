{
  "cells": [
    {
      "cell_type": "markdown",
      "source": [
        "#TRANSFORMER MODEL - FLAIR"
      ],
      "metadata": {
        "id": "nz6qDS6U9bxC"
      },
      "id": "nz6qDS6U9bxC"
    },
    {
      "cell_type": "code",
      "execution_count": null,
      "id": "3863fecf-4d92-4885-a96b-ca46a7b7055b",
      "metadata": {
        "colab": {
          "base_uri": "https://localhost:8080/"
        },
        "id": "3863fecf-4d92-4885-a96b-ca46a7b7055b",
        "outputId": "675dbd62-a483-4649-e37f-afcd47cbeb6d"
      },
      "outputs": [
        {
          "output_type": "stream",
          "name": "stdout",
          "text": [
            "Collecting flair\n",
            "  Downloading flair-0.13.1-py3-none-any.whl (388 kB)\n",
            "\u001b[2K     \u001b[90m━━━━━━━━━━━━━━━━━━━━━━━━━━━━━━━━━━━━━━━━\u001b[0m \u001b[32m388.3/388.3 kB\u001b[0m \u001b[31m3.6 MB/s\u001b[0m eta \u001b[36m0:00:00\u001b[0m\n",
            "\u001b[?25hCollecting boto3>=1.20.27 (from flair)\n",
            "  Downloading boto3-1.34.88-py3-none-any.whl (139 kB)\n",
            "\u001b[2K     \u001b[90m━━━━━━━━━━━━━━━━━━━━━━━━━━━━━━━━━━━━━━━━\u001b[0m \u001b[32m139.3/139.3 kB\u001b[0m \u001b[31m788.1 kB/s\u001b[0m eta \u001b[36m0:00:00\u001b[0m\n",
            "\u001b[?25hCollecting bpemb>=0.3.2 (from flair)\n",
            "  Downloading bpemb-0.3.5-py3-none-any.whl (19 kB)\n",
            "Collecting conllu>=4.0 (from flair)\n",
            "  Downloading conllu-4.5.3-py2.py3-none-any.whl (16 kB)\n",
            "Collecting deprecated>=1.2.13 (from flair)\n",
            "  Downloading Deprecated-1.2.14-py2.py3-none-any.whl (9.6 kB)\n",
            "Collecting ftfy>=6.1.0 (from flair)\n",
            "  Downloading ftfy-6.2.0-py3-none-any.whl (54 kB)\n",
            "\u001b[2K     \u001b[90m━━━━━━━━━━━━━━━━━━━━━━━━━━━━━━━━━━━━━━━━\u001b[0m \u001b[32m54.4/54.4 kB\u001b[0m \u001b[31m2.0 MB/s\u001b[0m eta \u001b[36m0:00:00\u001b[0m\n",
            "\u001b[?25hRequirement already satisfied: gdown>=4.4.0 in /usr/local/lib/python3.10/dist-packages (from flair) (4.7.3)\n",
            "Requirement already satisfied: gensim>=4.2.0 in /usr/local/lib/python3.10/dist-packages (from flair) (4.3.2)\n",
            "Requirement already satisfied: huggingface-hub>=0.10.0 in /usr/local/lib/python3.10/dist-packages (from flair) (0.20.3)\n",
            "Collecting janome>=0.4.2 (from flair)\n",
            "  Downloading Janome-0.5.0-py2.py3-none-any.whl (19.7 MB)\n",
            "\u001b[2K     \u001b[90m━━━━━━━━━━━━━━━━━━━━━━━━━━━━━━━━━━━━━━━━\u001b[0m \u001b[32m19.7/19.7 MB\u001b[0m \u001b[31m21.9 MB/s\u001b[0m eta \u001b[36m0:00:00\u001b[0m\n",
            "\u001b[?25hCollecting langdetect>=1.0.9 (from flair)\n",
            "  Downloading langdetect-1.0.9.tar.gz (981 kB)\n",
            "\u001b[2K     \u001b[90m━━━━━━━━━━━━━━━━━━━━━━━━━━━━━━━━━━━━━━━━\u001b[0m \u001b[32m981.5/981.5 kB\u001b[0m \u001b[31m15.4 MB/s\u001b[0m eta \u001b[36m0:00:00\u001b[0m\n",
            "\u001b[?25h  Preparing metadata (setup.py) ... \u001b[?25l\u001b[?25hdone\n",
            "Requirement already satisfied: lxml>=4.8.0 in /usr/local/lib/python3.10/dist-packages (from flair) (4.9.4)\n",
            "Requirement already satisfied: matplotlib>=2.2.3 in /usr/local/lib/python3.10/dist-packages (from flair) (3.7.1)\n",
            "Requirement already satisfied: more-itertools>=8.13.0 in /usr/local/lib/python3.10/dist-packages (from flair) (10.1.0)\n",
            "Collecting mpld3>=0.3 (from flair)\n",
            "  Downloading mpld3-0.5.10-py3-none-any.whl (202 kB)\n",
            "\u001b[2K     \u001b[90m━━━━━━━━━━━━━━━━━━━━━━━━━━━━━━━━━━━━━━━━\u001b[0m \u001b[32m202.6/202.6 kB\u001b[0m \u001b[31m14.9 MB/s\u001b[0m eta \u001b[36m0:00:00\u001b[0m\n",
            "\u001b[?25hCollecting pptree>=3.1 (from flair)\n",
            "  Downloading pptree-3.1.tar.gz (3.0 kB)\n",
            "  Preparing metadata (setup.py) ... \u001b[?25l\u001b[?25hdone\n",
            "Requirement already satisfied: python-dateutil>=2.8.2 in /usr/local/lib/python3.10/dist-packages (from flair) (2.8.2)\n",
            "Collecting pytorch-revgrad>=0.2.0 (from flair)\n",
            "  Downloading pytorch_revgrad-0.2.0-py3-none-any.whl (4.6 kB)\n",
            "Requirement already satisfied: regex>=2022.1.18 in /usr/local/lib/python3.10/dist-packages (from flair) (2023.12.25)\n",
            "Requirement already satisfied: scikit-learn>=1.0.2 in /usr/local/lib/python3.10/dist-packages (from flair) (1.2.2)\n",
            "Collecting segtok>=1.5.11 (from flair)\n",
            "  Downloading segtok-1.5.11-py3-none-any.whl (24 kB)\n",
            "Collecting sqlitedict>=2.0.0 (from flair)\n",
            "  Downloading sqlitedict-2.1.0.tar.gz (21 kB)\n",
            "  Preparing metadata (setup.py) ... \u001b[?25l\u001b[?25hdone\n",
            "Requirement already satisfied: tabulate>=0.8.10 in /usr/local/lib/python3.10/dist-packages (from flair) (0.9.0)\n",
            "Requirement already satisfied: torch!=1.8,>=1.5.0 in /usr/local/lib/python3.10/dist-packages (from flair) (2.2.1+cu121)\n",
            "Requirement already satisfied: tqdm>=4.63.0 in /usr/local/lib/python3.10/dist-packages (from flair) (4.66.2)\n",
            "Collecting transformer-smaller-training-vocab>=0.2.3 (from flair)\n",
            "  Downloading transformer_smaller_training_vocab-0.4.0-py3-none-any.whl (14 kB)\n",
            "Requirement already satisfied: transformers[sentencepiece]<5.0.0,>=4.18.0 in /usr/local/lib/python3.10/dist-packages (from flair) (4.38.2)\n",
            "Collecting urllib3<2.0.0,>=1.0.0 (from flair)\n",
            "  Downloading urllib3-1.26.18-py2.py3-none-any.whl (143 kB)\n",
            "\u001b[2K     \u001b[90m━━━━━━━━━━━━━━━━━━━━━━━━━━━━━━━━━━━━━━━━\u001b[0m \u001b[32m143.8/143.8 kB\u001b[0m \u001b[31m8.4 MB/s\u001b[0m eta \u001b[36m0:00:00\u001b[0m\n",
            "\u001b[?25hCollecting wikipedia-api>=0.5.7 (from flair)\n",
            "  Downloading Wikipedia_API-0.6.0-py3-none-any.whl (14 kB)\n",
            "Collecting semver<4.0.0,>=3.0.0 (from flair)\n",
            "  Downloading semver-3.0.2-py3-none-any.whl (17 kB)\n",
            "Collecting botocore<1.35.0,>=1.34.88 (from boto3>=1.20.27->flair)\n",
            "  Downloading botocore-1.34.88-py3-none-any.whl (12.2 MB)\n",
            "\u001b[2K     \u001b[90m━━━━━━━━━━━━━━━━━━━━━━━━━━━━━━━━━━━━━━━━\u001b[0m \u001b[32m12.2/12.2 MB\u001b[0m \u001b[31m28.9 MB/s\u001b[0m eta \u001b[36m0:00:00\u001b[0m\n",
            "\u001b[?25hCollecting jmespath<2.0.0,>=0.7.1 (from boto3>=1.20.27->flair)\n",
            "  Downloading jmespath-1.0.1-py3-none-any.whl (20 kB)\n",
            "Collecting s3transfer<0.11.0,>=0.10.0 (from boto3>=1.20.27->flair)\n",
            "  Downloading s3transfer-0.10.1-py3-none-any.whl (82 kB)\n",
            "\u001b[2K     \u001b[90m━━━━━━━━━━━━━━━━━━━━━━━━━━━━━━━━━━━━━━━━\u001b[0m \u001b[32m82.2/82.2 kB\u001b[0m \u001b[31m9.1 MB/s\u001b[0m eta \u001b[36m0:00:00\u001b[0m\n",
            "\u001b[?25hRequirement already satisfied: numpy in /usr/local/lib/python3.10/dist-packages (from bpemb>=0.3.2->flair) (1.25.2)\n",
            "Requirement already satisfied: requests in /usr/local/lib/python3.10/dist-packages (from bpemb>=0.3.2->flair) (2.31.0)\n",
            "Requirement already satisfied: sentencepiece in /usr/local/lib/python3.10/dist-packages (from bpemb>=0.3.2->flair) (0.1.99)\n",
            "Requirement already satisfied: wrapt<2,>=1.10 in /usr/local/lib/python3.10/dist-packages (from deprecated>=1.2.13->flair) (1.14.1)\n",
            "Requirement already satisfied: wcwidth<0.3.0,>=0.2.12 in /usr/local/lib/python3.10/dist-packages (from ftfy>=6.1.0->flair) (0.2.13)\n",
            "Requirement already satisfied: filelock in /usr/local/lib/python3.10/dist-packages (from gdown>=4.4.0->flair) (3.13.4)\n",
            "Requirement already satisfied: six in /usr/local/lib/python3.10/dist-packages (from gdown>=4.4.0->flair) (1.16.0)\n",
            "Requirement already satisfied: beautifulsoup4 in /usr/local/lib/python3.10/dist-packages (from gdown>=4.4.0->flair) (4.12.3)\n",
            "Requirement already satisfied: scipy>=1.7.0 in /usr/local/lib/python3.10/dist-packages (from gensim>=4.2.0->flair) (1.11.4)\n",
            "Requirement already satisfied: smart-open>=1.8.1 in /usr/local/lib/python3.10/dist-packages (from gensim>=4.2.0->flair) (6.4.0)\n",
            "Requirement already satisfied: fsspec>=2023.5.0 in /usr/local/lib/python3.10/dist-packages (from huggingface-hub>=0.10.0->flair) (2023.6.0)\n",
            "Requirement already satisfied: pyyaml>=5.1 in /usr/local/lib/python3.10/dist-packages (from huggingface-hub>=0.10.0->flair) (6.0.1)\n",
            "Requirement already satisfied: typing-extensions>=3.7.4.3 in /usr/local/lib/python3.10/dist-packages (from huggingface-hub>=0.10.0->flair) (4.11.0)\n",
            "Requirement already satisfied: packaging>=20.9 in /usr/local/lib/python3.10/dist-packages (from huggingface-hub>=0.10.0->flair) (24.0)\n",
            "Requirement already satisfied: contourpy>=1.0.1 in /usr/local/lib/python3.10/dist-packages (from matplotlib>=2.2.3->flair) (1.2.1)\n",
            "Requirement already satisfied: cycler>=0.10 in /usr/local/lib/python3.10/dist-packages (from matplotlib>=2.2.3->flair) (0.12.1)\n",
            "Requirement already satisfied: fonttools>=4.22.0 in /usr/local/lib/python3.10/dist-packages (from matplotlib>=2.2.3->flair) (4.51.0)\n",
            "Requirement already satisfied: kiwisolver>=1.0.1 in /usr/local/lib/python3.10/dist-packages (from matplotlib>=2.2.3->flair) (1.4.5)\n",
            "Requirement already satisfied: pillow>=6.2.0 in /usr/local/lib/python3.10/dist-packages (from matplotlib>=2.2.3->flair) (9.4.0)\n",
            "Requirement already satisfied: pyparsing>=2.3.1 in /usr/local/lib/python3.10/dist-packages (from matplotlib>=2.2.3->flair) (3.1.2)\n",
            "Requirement already satisfied: jinja2 in /usr/local/lib/python3.10/dist-packages (from mpld3>=0.3->flair) (3.1.3)\n",
            "Requirement already satisfied: joblib>=1.1.1 in /usr/local/lib/python3.10/dist-packages (from scikit-learn>=1.0.2->flair) (1.4.0)\n",
            "Requirement already satisfied: threadpoolctl>=2.0.0 in /usr/local/lib/python3.10/dist-packages (from scikit-learn>=1.0.2->flair) (3.4.0)\n",
            "Requirement already satisfied: sympy in /usr/local/lib/python3.10/dist-packages (from torch!=1.8,>=1.5.0->flair) (1.12)\n",
            "Requirement already satisfied: networkx in /usr/local/lib/python3.10/dist-packages (from torch!=1.8,>=1.5.0->flair) (3.3)\n",
            "Collecting nvidia-cuda-nvrtc-cu12==12.1.105 (from torch!=1.8,>=1.5.0->flair)\n",
            "  Using cached nvidia_cuda_nvrtc_cu12-12.1.105-py3-none-manylinux1_x86_64.whl (23.7 MB)\n",
            "Collecting nvidia-cuda-runtime-cu12==12.1.105 (from torch!=1.8,>=1.5.0->flair)\n",
            "  Using cached nvidia_cuda_runtime_cu12-12.1.105-py3-none-manylinux1_x86_64.whl (823 kB)\n",
            "Collecting nvidia-cuda-cupti-cu12==12.1.105 (from torch!=1.8,>=1.5.0->flair)\n",
            "  Using cached nvidia_cuda_cupti_cu12-12.1.105-py3-none-manylinux1_x86_64.whl (14.1 MB)\n",
            "Collecting nvidia-cudnn-cu12==8.9.2.26 (from torch!=1.8,>=1.5.0->flair)\n",
            "  Using cached nvidia_cudnn_cu12-8.9.2.26-py3-none-manylinux1_x86_64.whl (731.7 MB)\n",
            "Collecting nvidia-cublas-cu12==12.1.3.1 (from torch!=1.8,>=1.5.0->flair)\n",
            "  Using cached nvidia_cublas_cu12-12.1.3.1-py3-none-manylinux1_x86_64.whl (410.6 MB)\n",
            "Collecting nvidia-cufft-cu12==11.0.2.54 (from torch!=1.8,>=1.5.0->flair)\n",
            "  Using cached nvidia_cufft_cu12-11.0.2.54-py3-none-manylinux1_x86_64.whl (121.6 MB)\n",
            "Collecting nvidia-curand-cu12==10.3.2.106 (from torch!=1.8,>=1.5.0->flair)\n",
            "  Using cached nvidia_curand_cu12-10.3.2.106-py3-none-manylinux1_x86_64.whl (56.5 MB)\n",
            "Collecting nvidia-cusolver-cu12==11.4.5.107 (from torch!=1.8,>=1.5.0->flair)\n",
            "  Using cached nvidia_cusolver_cu12-11.4.5.107-py3-none-manylinux1_x86_64.whl (124.2 MB)\n",
            "Collecting nvidia-cusparse-cu12==12.1.0.106 (from torch!=1.8,>=1.5.0->flair)\n",
            "  Using cached nvidia_cusparse_cu12-12.1.0.106-py3-none-manylinux1_x86_64.whl (196.0 MB)\n",
            "Collecting nvidia-nccl-cu12==2.19.3 (from torch!=1.8,>=1.5.0->flair)\n",
            "  Using cached nvidia_nccl_cu12-2.19.3-py3-none-manylinux1_x86_64.whl (166.0 MB)\n",
            "Collecting nvidia-nvtx-cu12==12.1.105 (from torch!=1.8,>=1.5.0->flair)\n",
            "  Using cached nvidia_nvtx_cu12-12.1.105-py3-none-manylinux1_x86_64.whl (99 kB)\n",
            "Requirement already satisfied: triton==2.2.0 in /usr/local/lib/python3.10/dist-packages (from torch!=1.8,>=1.5.0->flair) (2.2.0)\n",
            "Collecting nvidia-nvjitlink-cu12 (from nvidia-cusolver-cu12==11.4.5.107->torch!=1.8,>=1.5.0->flair)\n",
            "  Using cached nvidia_nvjitlink_cu12-12.4.127-py3-none-manylinux2014_x86_64.whl (21.1 MB)\n",
            "Requirement already satisfied: tokenizers<0.19,>=0.14 in /usr/local/lib/python3.10/dist-packages (from transformers[sentencepiece]<5.0.0,>=4.18.0->flair) (0.15.2)\n",
            "Requirement already satisfied: safetensors>=0.4.1 in /usr/local/lib/python3.10/dist-packages (from transformers[sentencepiece]<5.0.0,>=4.18.0->flair) (0.4.3)\n",
            "Requirement already satisfied: protobuf in /usr/local/lib/python3.10/dist-packages (from transformers[sentencepiece]<5.0.0,>=4.18.0->flair) (3.20.3)\n",
            "Collecting accelerate>=0.21.0 (from transformers[sentencepiece]<5.0.0,>=4.18.0->flair)\n",
            "  Downloading accelerate-0.29.3-py3-none-any.whl (297 kB)\n",
            "\u001b[2K     \u001b[90m━━━━━━━━━━━━━━━━━━━━━━━━━━━━━━━━━━━━━━━━\u001b[0m \u001b[32m297.6/297.6 kB\u001b[0m \u001b[31m31.5 MB/s\u001b[0m eta \u001b[36m0:00:00\u001b[0m\n",
            "\u001b[?25hRequirement already satisfied: soupsieve>1.2 in /usr/local/lib/python3.10/dist-packages (from beautifulsoup4->gdown>=4.4.0->flair) (2.5)\n",
            "Requirement already satisfied: MarkupSafe>=2.0 in /usr/local/lib/python3.10/dist-packages (from jinja2->mpld3>=0.3->flair) (2.1.5)\n",
            "Requirement already satisfied: charset-normalizer<4,>=2 in /usr/local/lib/python3.10/dist-packages (from requests->bpemb>=0.3.2->flair) (3.3.2)\n",
            "Requirement already satisfied: idna<4,>=2.5 in /usr/local/lib/python3.10/dist-packages (from requests->bpemb>=0.3.2->flair) (3.7)\n",
            "Requirement already satisfied: certifi>=2017.4.17 in /usr/local/lib/python3.10/dist-packages (from requests->bpemb>=0.3.2->flair) (2024.2.2)\n",
            "Requirement already satisfied: PySocks!=1.5.7,>=1.5.6 in /usr/local/lib/python3.10/dist-packages (from requests->bpemb>=0.3.2->flair) (1.7.1)\n",
            "Requirement already satisfied: mpmath>=0.19 in /usr/local/lib/python3.10/dist-packages (from sympy->torch!=1.8,>=1.5.0->flair) (1.3.0)\n",
            "Requirement already satisfied: psutil in /usr/local/lib/python3.10/dist-packages (from accelerate>=0.21.0->transformers[sentencepiece]<5.0.0,>=4.18.0->flair) (5.9.5)\n",
            "Building wheels for collected packages: langdetect, pptree, sqlitedict\n",
            "  Building wheel for langdetect (setup.py) ... \u001b[?25l\u001b[?25hdone\n",
            "  Created wheel for langdetect: filename=langdetect-1.0.9-py3-none-any.whl size=993227 sha256=351b4778f2abfe1a415318f669004a359ed8659e7e750652ad62850680dbffdb\n",
            "  Stored in directory: /root/.cache/pip/wheels/95/03/7d/59ea870c70ce4e5a370638b5462a7711ab78fba2f655d05106\n",
            "  Building wheel for pptree (setup.py) ... \u001b[?25l\u001b[?25hdone\n",
            "  Created wheel for pptree: filename=pptree-3.1-py3-none-any.whl size=4609 sha256=e5a44f23cf92bcf91e6033cfeded026dd99c8e251560ef112c4c3cd7c427eca5\n",
            "  Stored in directory: /root/.cache/pip/wheels/9f/b6/0e/6f26eb9e6eb53ff2107a7888d72b5a6a597593956113037828\n",
            "  Building wheel for sqlitedict (setup.py) ... \u001b[?25l\u001b[?25hdone\n",
            "  Created wheel for sqlitedict: filename=sqlitedict-2.1.0-py3-none-any.whl size=16862 sha256=bea9db39c9f569dc116fc38915ddcf0c17570087b05c62bca74cf43bc6b39669\n",
            "  Stored in directory: /root/.cache/pip/wheels/79/d6/e7/304e0e6cb2221022c26d8161f7c23cd4f259a9e41e8bbcfabd\n",
            "Successfully built langdetect pptree sqlitedict\n",
            "Installing collected packages: sqlitedict, pptree, janome, urllib3, semver, segtok, nvidia-nvtx-cu12, nvidia-nvjitlink-cu12, nvidia-nccl-cu12, nvidia-curand-cu12, nvidia-cufft-cu12, nvidia-cuda-runtime-cu12, nvidia-cuda-nvrtc-cu12, nvidia-cuda-cupti-cu12, nvidia-cublas-cu12, langdetect, jmespath, ftfy, deprecated, conllu, nvidia-cusparse-cu12, nvidia-cudnn-cu12, botocore, wikipedia-api, s3transfer, nvidia-cusolver-cu12, mpld3, bpemb, boto3, pytorch-revgrad, accelerate, transformer-smaller-training-vocab, flair\n",
            "  Attempting uninstall: urllib3\n",
            "    Found existing installation: urllib3 2.0.7\n",
            "    Uninstalling urllib3-2.0.7:\n",
            "      Successfully uninstalled urllib3-2.0.7\n",
            "Successfully installed accelerate-0.29.3 boto3-1.34.88 botocore-1.34.88 bpemb-0.3.5 conllu-4.5.3 deprecated-1.2.14 flair-0.13.1 ftfy-6.2.0 janome-0.5.0 jmespath-1.0.1 langdetect-1.0.9 mpld3-0.5.10 nvidia-cublas-cu12-12.1.3.1 nvidia-cuda-cupti-cu12-12.1.105 nvidia-cuda-nvrtc-cu12-12.1.105 nvidia-cuda-runtime-cu12-12.1.105 nvidia-cudnn-cu12-8.9.2.26 nvidia-cufft-cu12-11.0.2.54 nvidia-curand-cu12-10.3.2.106 nvidia-cusolver-cu12-11.4.5.107 nvidia-cusparse-cu12-12.1.0.106 nvidia-nccl-cu12-2.19.3 nvidia-nvjitlink-cu12-12.4.127 nvidia-nvtx-cu12-12.1.105 pptree-3.1 pytorch-revgrad-0.2.0 s3transfer-0.10.1 segtok-1.5.11 semver-3.0.2 sqlitedict-2.1.0 transformer-smaller-training-vocab-0.4.0 urllib3-1.26.18 wikipedia-api-0.6.0\n"
          ]
        }
      ],
      "source": [
        "!pip install flair"
      ]
    },
    {
      "cell_type": "code",
      "execution_count": null,
      "id": "d5cc21d6-6c16-42b7-b3cd-e5f97ae1aa81",
      "metadata": {
        "colab": {
          "base_uri": "https://localhost:8080/"
        },
        "id": "d5cc21d6-6c16-42b7-b3cd-e5f97ae1aa81",
        "outputId": "48fcd018-16c7-4eff-94db-54272efd5eac"
      },
      "outputs": [
        {
          "output_type": "stream",
          "name": "stdout",
          "text": [
            "2024-04-21 22:35:44,809 Reading data from data\n",
            "2024-04-21 22:35:44,811 Train: data/train_pii.txt\n",
            "2024-04-21 22:35:44,814 Dev: data/val_pii.txt\n",
            "2024-04-21 22:35:44,816 Test: data/test_pii.txt\n"
          ]
        }
      ],
      "source": [
        "from flair.datasets import ColumnCorpus\n",
        "from flair.data import Corpus\n",
        "from flair.datasets import CONLL_03\n",
        "from flair.embeddings import WordEmbeddings, StackedEmbeddings, FlairEmbeddings, TokenEmbeddings\n",
        "\n",
        "# define the embedding types to be used\n",
        "embedding_types = [\n",
        "    # GloVe embeddings\n",
        "    WordEmbeddings('glove'),\n",
        "]\n",
        "\n",
        "# define columns\n",
        "columns = {0 : 'text', 1 : 'ner'}\n",
        "\n",
        "# directory where the data resides\n",
        "data_folder = './data/'\n",
        "\n",
        "# initializing the corpus\n",
        "corpus: Corpus = ColumnCorpus(data_folder, columns,\n",
        "                              train_file = 'train_pii.txt',\n",
        "                              test_file = 'test_pii.txt',\n",
        "                              dev_file = 'val_pii.txt')\n"
      ]
    },
    {
      "cell_type": "code",
      "source": [
        "# tag to predict\n",
        "tag_type = 'ner'\n",
        "# make tag dictionary from the corpus\n",
        "tag_dictionary = corpus.make_tag_dictionary(tag_type=tag_type)\n",
        "\n",
        "from flair.embeddings import WordEmbeddings, StackedEmbeddings\n",
        "from typing import List\n",
        "embedding_types : List[TokenEmbeddings] = [\n",
        "        WordEmbeddings('glove'),\n",
        "        ## other embeddings\n",
        "        ]\n",
        "embeddings : StackedEmbeddings = StackedEmbeddings(\n",
        "                                 embeddings=embedding_types)\n",
        "\n",
        "\n",
        "from flair.models import SequenceTagger\n",
        "\n",
        "tagger : SequenceTagger = SequenceTagger(hidden_size=256,\n",
        "                                       embeddings=embeddings,\n",
        "                                       tag_dictionary=tag_dictionary,\n",
        "                                       tag_type=tag_type,\n",
        "                                       use_crf=True)\n",
        "print(tagger)"
      ],
      "metadata": {
        "colab": {
          "base_uri": "https://localhost:8080/"
        },
        "id": "yo_56OGizv4C",
        "outputId": "16391607-96ab-408a-f52e-b3b82d037b14"
      },
      "id": "yo_56OGizv4C",
      "execution_count": null,
      "outputs": [
        {
          "output_type": "stream",
          "name": "stderr",
          "text": [
            "<ipython-input-5-0b54030a5638>:4: DeprecationWarning: Call to deprecated method make_tag_dictionary. (Use 'make_label_dictionary' instead.) -- Deprecated since version 0.8.\n",
            "  tag_dictionary = corpus.make_tag_dictionary(tag_type=tag_type)\n"
          ]
        },
        {
          "output_type": "stream",
          "name": "stdout",
          "text": [
            "2024-04-21 22:44:04,068 SequenceTagger predicts: Dictionary with 4 tags: O, PII, <START>, <STOP>\n",
            "SequenceTagger(\n",
            "  (embeddings): StackedEmbeddings(\n",
            "    (list_embedding_0): WordEmbeddings(\n",
            "      'glove'\n",
            "      (embedding): Embedding(400001, 100)\n",
            "    )\n",
            "  )\n",
            "  (word_dropout): WordDropout(p=0.05)\n",
            "  (locked_dropout): LockedDropout(p=0.5)\n",
            "  (embedding2nn): Linear(in_features=100, out_features=100, bias=True)\n",
            "  (rnn): LSTM(100, 256, batch_first=True, bidirectional=True)\n",
            "  (linear): Linear(in_features=512, out_features=4, bias=True)\n",
            "  (loss_function): ViterbiLoss()\n",
            "  (crf): CRF()\n",
            ")\n"
          ]
        }
      ]
    },
    {
      "cell_type": "code",
      "source": [
        "# Training the model\n",
        "from flair.trainers import ModelTrainer\n",
        "trainer : ModelTrainer = ModelTrainer(tagger, corpus)\n",
        "trainer.train('resources/taggers/example-ner',\n",
        "              learning_rate=0.1,\n",
        "              mini_batch_size=32,\n",
        "              max_epochs=150)\n",
        "\n",
        "# Note: For the purposes of output demo, we ran the training set with max_epoch=2. However, the results shown in the report are with max_epochs=150"
      ],
      "metadata": {
        "colab": {
          "base_uri": "https://localhost:8080/"
        },
        "id": "EVhOTngWz32S",
        "outputId": "6dbe60e0-b1ee-4efc-9516-5d12e35c7288"
      },
      "id": "EVhOTngWz32S",
      "execution_count": null,
      "outputs": [
        {
          "output_type": "stream",
          "name": "stdout",
          "text": [
            "2024-04-21 22:44:07,987 ----------------------------------------------------------------------------------------------------\n",
            "2024-04-21 22:44:07,989 Model: \"SequenceTagger(\n",
            "  (embeddings): StackedEmbeddings(\n",
            "    (list_embedding_0): WordEmbeddings(\n",
            "      'glove'\n",
            "      (embedding): Embedding(400001, 100)\n",
            "    )\n",
            "  )\n",
            "  (word_dropout): WordDropout(p=0.05)\n",
            "  (locked_dropout): LockedDropout(p=0.5)\n",
            "  (embedding2nn): Linear(in_features=100, out_features=100, bias=True)\n",
            "  (rnn): LSTM(100, 256, batch_first=True, bidirectional=True)\n",
            "  (linear): Linear(in_features=512, out_features=4, bias=True)\n",
            "  (loss_function): ViterbiLoss()\n",
            "  (crf): CRF()\n",
            ")\"\n",
            "2024-04-21 22:44:07,992 ----------------------------------------------------------------------------------------------------\n",
            "2024-04-21 22:44:07,994 Corpus: 65201 train + 8306 dev + 16629 test sentences\n",
            "2024-04-21 22:44:07,996 ----------------------------------------------------------------------------------------------------\n",
            "2024-04-21 22:44:07,998 Train:  65201 sentences\n",
            "2024-04-21 22:44:08,000         (train_with_dev=False, train_with_test=False)\n",
            "2024-04-21 22:44:08,001 ----------------------------------------------------------------------------------------------------\n",
            "2024-04-21 22:44:08,002 Training Params:\n",
            "2024-04-21 22:44:08,003  - learning_rate: \"0.1\" \n",
            "2024-04-21 22:44:08,005  - mini_batch_size: \"32\"\n",
            "2024-04-21 22:44:08,006  - max_epochs: \"2\"\n",
            "2024-04-21 22:44:08,007  - shuffle: \"True\"\n",
            "2024-04-21 22:44:08,009 ----------------------------------------------------------------------------------------------------\n",
            "2024-04-21 22:44:08,010 Plugins:\n",
            "2024-04-21 22:44:08,011  - AnnealOnPlateau | patience: '3', anneal_factor: '0.5', min_learning_rate: '0.0001'\n",
            "2024-04-21 22:44:08,013 ----------------------------------------------------------------------------------------------------\n",
            "2024-04-21 22:44:08,014 Final evaluation on model from best epoch (best-model.pt)\n",
            "2024-04-21 22:44:08,015  - metric: \"('micro avg', 'f1-score')\"\n",
            "2024-04-21 22:44:08,016 ----------------------------------------------------------------------------------------------------\n",
            "2024-04-21 22:44:08,018 Computation:\n",
            "2024-04-21 22:44:08,019  - compute on device: cpu\n",
            "2024-04-21 22:44:08,021  - embedding storage: cpu\n",
            "2024-04-21 22:44:08,022 ----------------------------------------------------------------------------------------------------\n",
            "2024-04-21 22:44:08,024 Model training base path: \"resources/taggers/example-ner\"\n",
            "2024-04-21 22:44:08,025 ----------------------------------------------------------------------------------------------------\n",
            "2024-04-21 22:44:08,026 ----------------------------------------------------------------------------------------------------\n",
            "2024-04-21 22:44:38,781 epoch 1 - iter 203/2038 - loss 0.23062395 - time (sec): 30.75 - samples/sec: 2653.40 - lr: 0.100000 - momentum: 0.000000\n",
            "2024-04-21 22:45:09,122 epoch 1 - iter 406/2038 - loss 0.19653659 - time (sec): 61.09 - samples/sec: 2658.70 - lr: 0.100000 - momentum: 0.000000\n",
            "2024-04-21 22:45:43,412 epoch 1 - iter 609/2038 - loss 0.17798030 - time (sec): 95.38 - samples/sec: 2562.94 - lr: 0.100000 - momentum: 0.000000\n",
            "2024-04-21 22:46:13,818 epoch 1 - iter 812/2038 - loss 0.16633224 - time (sec): 125.79 - samples/sec: 2585.01 - lr: 0.100000 - momentum: 0.000000\n",
            "2024-04-21 22:46:43,972 epoch 1 - iter 1015/2038 - loss 0.15830002 - time (sec): 155.94 - samples/sec: 2603.26 - lr: 0.100000 - momentum: 0.000000\n",
            "2024-04-21 22:47:14,953 epoch 1 - iter 1218/2038 - loss 0.15187565 - time (sec): 186.92 - samples/sec: 2603.03 - lr: 0.100000 - momentum: 0.000000\n",
            "2024-04-21 22:47:44,568 epoch 1 - iter 1421/2038 - loss 0.14667807 - time (sec): 216.54 - samples/sec: 2619.20 - lr: 0.100000 - momentum: 0.000000\n",
            "2024-04-21 22:48:15,190 epoch 1 - iter 1624/2038 - loss 0.14260824 - time (sec): 247.16 - samples/sec: 2620.95 - lr: 0.100000 - momentum: 0.000000\n",
            "2024-04-21 22:48:45,581 epoch 1 - iter 1827/2038 - loss 0.13887064 - time (sec): 277.55 - samples/sec: 2626.51 - lr: 0.100000 - momentum: 0.000000\n",
            "2024-04-21 22:49:20,177 epoch 1 - iter 2030/2038 - loss 0.13545741 - time (sec): 312.15 - samples/sec: 2596.79 - lr: 0.100000 - momentum: 0.000000\n",
            "2024-04-21 22:49:21,358 ----------------------------------------------------------------------------------------------------\n",
            "2024-04-21 22:49:21,360 EPOCH 1 done: loss 0.1353 - lr: 0.100000\n"
          ]
        },
        {
          "output_type": "stream",
          "name": "stderr",
          "text": [
            "100%|██████████| 130/130 [00:22<00:00,  5.81it/s]\n"
          ]
        },
        {
          "output_type": "stream",
          "name": "stdout",
          "text": [
            "2024-04-21 22:49:43,911 DEV : loss 0.06826497614383698 - f1-score (micro avg)  0.8734\n",
            "2024-04-21 22:49:44,205  - 0 epochs without improvement\n",
            "2024-04-21 22:49:44,207 saving best model\n",
            "2024-04-21 22:49:45,159 ----------------------------------------------------------------------------------------------------\n",
            "2024-04-21 22:50:15,923 epoch 2 - iter 203/2038 - loss 0.10164542 - time (sec): 30.76 - samples/sec: 2635.42 - lr: 0.100000 - momentum: 0.000000\n",
            "2024-04-21 22:50:47,887 epoch 2 - iter 406/2038 - loss 0.09795404 - time (sec): 62.72 - samples/sec: 2583.88 - lr: 0.100000 - momentum: 0.000000\n",
            "2024-04-21 22:51:18,113 epoch 2 - iter 609/2038 - loss 0.09745232 - time (sec): 92.95 - samples/sec: 2616.44 - lr: 0.100000 - momentum: 0.000000\n",
            "2024-04-21 22:51:49,298 epoch 2 - iter 812/2038 - loss 0.09644398 - time (sec): 124.14 - samples/sec: 2618.02 - lr: 0.100000 - momentum: 0.000000\n",
            "2024-04-21 22:52:21,499 epoch 2 - iter 1015/2038 - loss 0.09528254 - time (sec): 156.34 - samples/sec: 2598.81 - lr: 0.100000 - momentum: 0.000000\n",
            "2024-04-21 22:52:52,102 epoch 2 - iter 1218/2038 - loss 0.09456160 - time (sec): 186.94 - samples/sec: 2603.16 - lr: 0.100000 - momentum: 0.000000\n",
            "2024-04-21 22:53:23,077 epoch 2 - iter 1421/2038 - loss 0.09392309 - time (sec): 217.91 - samples/sec: 2610.77 - lr: 0.100000 - momentum: 0.000000\n",
            "2024-04-21 22:53:53,635 epoch 2 - iter 1624/2038 - loss 0.09328177 - time (sec): 248.47 - samples/sec: 2614.56 - lr: 0.100000 - momentum: 0.000000\n",
            "2024-04-21 22:54:24,756 epoch 2 - iter 1827/2038 - loss 0.09249994 - time (sec): 279.59 - samples/sec: 2611.27 - lr: 0.100000 - momentum: 0.000000\n",
            "2024-04-21 22:54:55,357 epoch 2 - iter 2030/2038 - loss 0.09152788 - time (sec): 310.19 - samples/sec: 2613.22 - lr: 0.100000 - momentum: 0.000000\n",
            "2024-04-21 22:54:56,812 ----------------------------------------------------------------------------------------------------\n",
            "2024-04-21 22:54:56,814 EPOCH 2 done: loss 0.0915 - lr: 0.100000\n"
          ]
        },
        {
          "output_type": "stream",
          "name": "stderr",
          "text": [
            "100%|██████████| 130/130 [00:22<00:00,  5.69it/s]\n"
          ]
        },
        {
          "output_type": "stream",
          "name": "stdout",
          "text": [
            "2024-04-21 22:55:19,827 DEV : loss 0.045295581221580505 - f1-score (micro avg)  0.9272\n",
            "2024-04-21 22:55:20,144  - 0 epochs without improvement\n",
            "2024-04-21 22:55:20,147 saving best model\n",
            "2024-04-21 22:55:23,159 ----------------------------------------------------------------------------------------------------\n",
            "2024-04-21 22:55:23,162 Loading model from best epoch ...\n",
            "2024-04-21 22:55:24,091 SequenceTagger predicts: Dictionary with 4 tags: O, PII, <START>, <STOP>\n"
          ]
        },
        {
          "output_type": "stream",
          "name": "stderr",
          "text": [
            "100%|██████████| 260/260 [00:34<00:00,  7.48it/s]\n"
          ]
        },
        {
          "output_type": "stream",
          "name": "stdout",
          "text": [
            "2024-04-21 22:55:59,261 \n",
            "Results:\n",
            "- F-score (micro) 0.9313\n",
            "- F-score (macro) 0.9313\n",
            "- Accuracy 0.8714\n",
            "\n",
            "By class:\n",
            "              precision    recall  f1-score   support\n",
            "\n",
            "         PII     0.9378    0.9248    0.9313     25290\n",
            "\n",
            "   micro avg     0.9378    0.9248    0.9313     25290\n",
            "   macro avg     0.9378    0.9248    0.9313     25290\n",
            "weighted avg     0.9378    0.9248    0.9313     25290\n",
            "\n",
            "2024-04-21 22:55:59,265 ----------------------------------------------------------------------------------------------------\n"
          ]
        },
        {
          "output_type": "execute_result",
          "data": {
            "text/plain": [
              "{'test_score': 0.9312946704095244}"
            ]
          },
          "metadata": {},
          "execution_count": 6
        }
      ]
    },
    {
      "cell_type": "code",
      "execution_count": null,
      "id": "934da8f7-09e9-4f36-9db4-1bd5caaa58c3",
      "metadata": {
        "colab": {
          "base_uri": "https://localhost:8080/"
        },
        "id": "934da8f7-09e9-4f36-9db4-1bd5caaa58c3",
        "outputId": "447d16c4-7d51-4d7b-a5cb-5f10203f654d"
      },
      "outputs": [
        {
          "output_type": "stream",
          "name": "stdout",
          "text": [
            "2024-04-21 22:56:48,891 SequenceTagger predicts: Dictionary with 4 tags: O, PII, <START>, <STOP>\n",
            "23389 182229 1550 1901\n"
          ]
        }
      ],
      "source": [
        "from flair.datasets import DataLoader\n",
        "from flair.data import Corpus\n",
        "from flair.embeddings import StackedEmbeddings\n",
        "from flair.models import SequenceTagger\n",
        "from flair.trainers import ModelTrainer\n",
        "from flair.training_utils import EvaluationMetric\n",
        "from typing import List\n",
        "\n",
        "import numpy as np\n",
        "\n",
        "from sklearn.metrics import confusion_matrix\n",
        "import seaborn as sns\n",
        "import matplotlib.pyplot as plt\n",
        "import numpy as np\n",
        "import re\n",
        "\n",
        "true_positive = 0\n",
        "true_negative = 0\n",
        "false_pos = 0\n",
        "false_neg = 0\n",
        "tag_type = 'ner'\n",
        "\n",
        "# Load the trained model\n",
        "model = SequenceTagger.load('./resources/taggers/example-ner/final-model.pt')\n",
        "\n",
        "# Make predictions on test data\n",
        "y_true = []\n",
        "y_pred = []\n",
        "\n",
        "y_true_binary = []\n",
        "y_pred_binary = []\n",
        "\n",
        "for sentence in corpus.test:\n",
        "    true_labels = [token for token in sentence.tokens for label in token.get_labels(tag_type)]\n",
        "    y_true = [0] * len(sentence.tokens)\n",
        "    for iter in true_labels:\n",
        "      # Define the regex pattern to match the token name and digits within square brackets\n",
        "      pattern = r'Token\\[(\\d+)\\]'\n",
        "\n",
        "      # Use re.search to find the pattern in the string\n",
        "      match = re.search(pattern, str(iter))\n",
        "\n",
        "      # Extract the number from the matched group\n",
        "      if match:\n",
        "          number = match.group(1)\n",
        "          y_true[int(number)] = 1\n",
        "\n",
        "    model.predict(sentence)\n",
        "\n",
        "    predicted_labels = [str(label) for token in sentence.tokens for label in token.get_labels(tag_type)]\n",
        "    y_pred = [0] * len(y_true)\n",
        "    for iter in predicted_labels:\n",
        "      # Define the regex pattern to match the token name and digits within square brackets\n",
        "      pattern = r'Token\\[(\\d+)\\]'\n",
        "\n",
        "      # Use re.search to find the pattern in the string\n",
        "      match = re.search(pattern, str(iter))\n",
        "\n",
        "      # Extract the number from the matched group\n",
        "      if match:\n",
        "          number = match.group(1)\n",
        "          y_pred[int(number)] = 1\n",
        "    y_true_binary.append(y_true)\n",
        "    y_pred_binary.append(y_pred)\n",
        "    for iter in range(len(y_true)):\n",
        "      if(y_true[iter] == 1 and y_pred[iter] == 1):\n",
        "        true_positive += 1\n",
        "      elif(y_true[iter] == 1 and y_pred[iter] == 0):\n",
        "        false_neg += 1\n",
        "      elif(y_true[iter] == 0 and y_pred[iter] == 1):\n",
        "        false_pos += 1\n",
        "      else:\n",
        "        true_negative += 1\n",
        "\n",
        "# Calculate confusion matrix\n",
        "labels = list(set(y_true + y_pred))\n",
        "cm = confusion_matrix(y_true, y_pred, labels=labels)\n",
        "print(true_positive,true_negative, false_pos, false_neg)\n"
      ]
    },
    {
      "cell_type": "code",
      "source": [
        "y_true_binary = sum(y_true_binary,[])\n",
        "y_pred_binary = sum(y_pred_binary,[])"
      ],
      "metadata": {
        "id": "7xZZtPp1eKn6"
      },
      "id": "7xZZtPp1eKn6",
      "execution_count": null,
      "outputs": []
    },
    {
      "cell_type": "code",
      "source": [
        "# Plot confusion matrix\n",
        "\n",
        "plt.figure(figsize=(12, 10))\n",
        "cm[0][0] = true_negative\n",
        "cm[1][1] = true_positive\n",
        "cm[0][1] = false_neg\n",
        "cm[1][0] = false_pos\n",
        "sns.heatmap(cm, annot=True, fmt='d', cmap='Blues', xticklabels=labels, yticklabels=labels)\n",
        "plt.xlabel('Predicted Label')\n",
        "plt.ylabel('True Label')\n",
        "plt.title('Confusion Matrix')\n",
        "plt.show()"
      ],
      "metadata": {
        "colab": {
          "base_uri": "https://localhost:8080/",
          "height": 872
        },
        "id": "by2LraAy_jGR",
        "outputId": "13c7932f-903e-4452-ef67-0e7b56aaa507"
      },
      "id": "by2LraAy_jGR",
      "execution_count": null,
      "outputs": [
        {
          "output_type": "display_data",
          "data": {
            "text/plain": [
              "<Figure size 1200x1000 with 2 Axes>"
            ],
            "image/png": "[encoded data removed]"
          },
          "metadata": {}
        }
      ]
    },
    {
      "cell_type": "code",
      "execution_count": null,
      "id": "f2255370-60b1-427a-9a6d-ac2da7cbd5e0",
      "metadata": {
        "colab": {
          "base_uri": "https://localhost:8080/",
          "height": 472
        },
        "id": "f2255370-60b1-427a-9a6d-ac2da7cbd5e0",
        "outputId": "ece60edc-ae74-4594-dbd2-899ea7744bf5"
      },
      "outputs": [
        {
          "output_type": "display_data",
          "data": {
            "text/plain": [
              "<Figure size 640x480 with 1 Axes>"
            ],
            "image/png": "[encoded data removed]"
          },
          "metadata": {}
        }
      ],
      "source": [
        "from sklearn.metrics import roc_curve, auc\n",
        "import matplotlib.pyplot as plt\n",
        "\n",
        "# Calculate ROC curve\n",
        "fpr, tpr, _ = roc_curve(y_true_binary, y_pred_binary)\n",
        "roc_auc = auc(fpr, tpr)\n",
        "\n",
        "# Plot ROC curve\n",
        "plt.figure()\n",
        "plt.plot(fpr, tpr, color='darkorange', lw=2, label=f'ROC curve (area = {roc_auc:.2f})')\n",
        "plt.plot([0, 1], [0, 1], color='navy', lw=2, linestyle='--')\n",
        "plt.xlabel('False Positive Rate')\n",
        "plt.ylabel('True Positive Rate')\n",
        "plt.title('Receiver Operating Characteristic (ROC) Curve')\n",
        "plt.legend(loc='lower right')\n",
        "plt.show()"
      ]
    }
  ],
  "metadata": {
    "kernelspec": {
      "display_name": "Python 3",
      "name": "python3"
    },
    "language_info": {
      "codemirror_mode": {
        "name": "ipython",
        "version": 3
      },
      "file_extension": ".py",
      "mimetype": "text/x-python",
      "name": "python",
      "nbconvert_exporter": "python",
      "pygments_lexer": "ipython3",
      "version": "3.11.6"
    },
    "colab": {
      "provenance": [],
      "gpuType": "T4"
    },
    "accelerator": "GPU"
  },
  "nbformat": 4,
  "nbformat_minor": 5
}