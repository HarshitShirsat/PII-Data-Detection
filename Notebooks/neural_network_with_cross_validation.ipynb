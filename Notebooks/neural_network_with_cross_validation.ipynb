{
  "metadata": {
    "kernelspec": {
      "language": "python",
      "display_name": "Python 3",
      "name": "python3"
    },
    "language_info": {
      "name": "python",
      "version": "3.10.13",
      "mimetype": "text/x-python",
      "codemirror_mode": {
        "name": "ipython",
        "version": 3
      },
      "pygments_lexer": "ipython3",
      "nbconvert_exporter": "python",
      "file_extension": ".py"
    },
    "colab": {
      "provenance": []
    }
  },
  "nbformat_minor": 0,
  "nbformat": 4,
  "cells": [
    {
      "cell_type": "code",
      "source": [
        "import numpy as np\n",
        "import pandas as pd\n",
        "from sklearn.preprocessing import OneHotEncoder"
      ],
      "metadata": {
        "execution": {
          "iopub.status.busy": "2024-04-21T00:37:22.844584Z",
          "iopub.execute_input": "2024-04-21T00:37:22.844993Z",
          "iopub.status.idle": "2024-04-21T00:37:22.850057Z",
          "shell.execute_reply.started": "2024-04-21T00:37:22.844966Z",
          "shell.execute_reply": "2024-04-21T00:37:22.849118Z"
        },
        "trusted": true,
        "id": "z4TgCD_y0Gtx"
      },
      "execution_count": null,
      "outputs": []
    },
    {
      "cell_type": "code",
      "source": [
        "file_path = \"/kaggle/input/external-dataset-without-other-json/external_dataset_without_other.json\""
      ],
      "metadata": {
        "_uuid": "8f2839f25d086af736a60e9eeb907d3b93b6e0e5",
        "_cell_guid": "b1076dfc-b9ad-4769-8c92-a6c4dae69d19",
        "execution": {
          "iopub.status.busy": "2024-04-21T00:37:22.851569Z",
          "iopub.execute_input": "2024-04-21T00:37:22.851909Z",
          "iopub.status.idle": "2024-04-21T00:37:22.866186Z",
          "shell.execute_reply.started": "2024-04-21T00:37:22.851879Z",
          "shell.execute_reply": "2024-04-21T00:37:22.865464Z"
        },
        "trusted": true,
        "id": "bAeDGO6W0Gty"
      },
      "execution_count": null,
      "outputs": []
    },
    {
      "cell_type": "code",
      "source": [
        "#function to pad the list to max length of all possible pii and non pii words\n",
        "def pad(l, size, padding):\n",
        "  return l + [padding] * abs((len(l)-size))"
      ],
      "metadata": {
        "execution": {
          "iopub.status.busy": "2024-04-21T00:37:22.867145Z",
          "iopub.execute_input": "2024-04-21T00:37:22.867383Z",
          "iopub.status.idle": "2024-04-21T00:37:22.879246Z",
          "shell.execute_reply.started": "2024-04-21T00:37:22.867363Z",
          "shell.execute_reply": "2024-04-21T00:37:22.878377Z"
        },
        "trusted": true,
        "id": "s1FUOsY-0Gty"
      },
      "execution_count": null,
      "outputs": []
    },
    {
      "cell_type": "code",
      "source": [
        "train_data = pd.read_json(file_path, lines = True)"
      ],
      "metadata": {
        "execution": {
          "iopub.status.busy": "2024-04-21T00:37:22.881765Z",
          "iopub.execute_input": "2024-04-21T00:37:22.882500Z",
          "iopub.status.idle": "2024-04-21T00:37:24.248962Z",
          "shell.execute_reply.started": "2024-04-21T00:37:22.882470Z",
          "shell.execute_reply": "2024-04-21T00:37:24.248144Z"
        },
        "trusted": true,
        "id": "x6IA07t60Gty"
      },
      "execution_count": null,
      "outputs": []
    },
    {
      "cell_type": "code",
      "source": [
        "#create the list of PIIs and the top N number of occurences of non-pii words\n",
        "all_piis = []\n",
        "top_non_pii = []\n",
        "for iter in train_data.iloc():\n",
        "  for idx, label in enumerate(iter['bio_labels']):\n",
        "    if label != \"O\":\n",
        "      all_piis.append(iter['tokenised_text'][idx].lower())\n",
        "    else:\n",
        "      top_non_pii.append(iter['tokenised_text'][idx].lower())"
      ],
      "metadata": {
        "execution": {
          "iopub.status.busy": "2024-04-21T00:37:24.250157Z",
          "iopub.execute_input": "2024-04-21T00:37:24.250470Z",
          "iopub.status.idle": "2024-04-21T00:37:31.270379Z",
          "shell.execute_reply.started": "2024-04-21T00:37:24.250441Z",
          "shell.execute_reply": "2024-04-21T00:37:31.269615Z"
        },
        "trusted": true,
        "id": "apaX9CUr0Gtz"
      },
      "execution_count": null,
      "outputs": []
    },
    {
      "cell_type": "code",
      "source": [
        "#find the max length of chars across all words\n",
        "temp = max(len(iter) for iter in all_piis)\n",
        "max_len = max(len(iter) for iter in top_non_pii)\n",
        "max_len = max(max_len, temp)"
      ],
      "metadata": {
        "execution": {
          "iopub.status.busy": "2024-04-21T00:37:31.271486Z",
          "iopub.execute_input": "2024-04-21T00:37:31.271778Z",
          "iopub.status.idle": "2024-04-21T00:37:31.383185Z",
          "shell.execute_reply.started": "2024-04-21T00:37:31.271754Z",
          "shell.execute_reply": "2024-04-21T00:37:31.382463Z"
        },
        "trusted": true,
        "id": "DQInzYEu0Gtz"
      },
      "execution_count": null,
      "outputs": []
    },
    {
      "cell_type": "code",
      "source": [
        "#creating a map of all the characters in the words to assign a unique index\n",
        "combined_data = '#'\n",
        "for iter in all_piis:\n",
        "  combined_data += iter\n",
        "for iter in top_non_pii:\n",
        "  combined_data += iter\n",
        "#example for set() --> set(\"alan\") -> (a,l,n)\n",
        "chars = sorted(list(set(combined_data)))\n",
        "mapping = dict((c, i) for i, c in enumerate(chars))"
      ],
      "metadata": {
        "execution": {
          "iopub.status.busy": "2024-04-21T00:37:31.384300Z",
          "iopub.execute_input": "2024-04-21T00:37:31.384595Z",
          "iopub.status.idle": "2024-04-21T00:37:32.043754Z",
          "shell.execute_reply.started": "2024-04-21T00:37:31.384571Z",
          "shell.execute_reply": "2024-04-21T00:37:32.043007Z"
        },
        "trusted": true,
        "id": "lmwBxekB0Gtz"
      },
      "execution_count": null,
      "outputs": []
    },
    {
      "cell_type": "code",
      "source": [
        "#For debugging purposes\n",
        "#Creating an index to char map\n",
        "\n",
        "index_to_char = {v: k for k, v in mapping.items()}"
      ],
      "metadata": {
        "execution": {
          "iopub.status.busy": "2024-04-21T00:37:32.044908Z",
          "iopub.execute_input": "2024-04-21T00:37:32.045247Z",
          "iopub.status.idle": "2024-04-21T00:37:32.049922Z",
          "shell.execute_reply.started": "2024-04-21T00:37:32.045217Z",
          "shell.execute_reply": "2024-04-21T00:37:32.049133Z"
        },
        "trusted": true,
        "id": "Zo_XjvMl0Gtz"
      },
      "execution_count": null,
      "outputs": []
    },
    {
      "cell_type": "code",
      "source": [
        "#convert characters to number mapping\n",
        "for idx,iter in enumerate(all_piis):\n",
        "  all_piis[idx] = [mapping[char] for char in iter]\n",
        "\n",
        "#pad the strings to the maxlength\n",
        "for idx,iter in enumerate(all_piis):\n",
        "  all_piis[idx] = pad(iter,max_len,mapping['#'])\n",
        "\n",
        "all_piis = pd.DataFrame(all_piis)"
      ],
      "metadata": {
        "execution": {
          "iopub.status.busy": "2024-04-21T00:37:32.051061Z",
          "iopub.execute_input": "2024-04-21T00:37:32.051326Z",
          "iopub.status.idle": "2024-04-21T00:37:38.380348Z",
          "shell.execute_reply.started": "2024-04-21T00:37:32.051304Z",
          "shell.execute_reply": "2024-04-21T00:37:38.379435Z"
        },
        "trusted": true,
        "id": "RCKg4Ciq0Gtz"
      },
      "execution_count": null,
      "outputs": []
    },
    {
      "cell_type": "code",
      "source": [
        "#convert characters to number mapping\n",
        "for idx,iter in enumerate(top_non_pii):\n",
        "  top_non_pii[idx] = [mapping[char] for char in iter]\n",
        "\n",
        "#pad the strings to the maxlength\n",
        "for idx,iter in enumerate(top_non_pii):\n",
        "  top_non_pii[idx] = pad(iter,max_len,mapping['#'])\n",
        "\n",
        "top_non_pii = pd.DataFrame(top_non_pii)"
      ],
      "metadata": {
        "execution": {
          "iopub.status.busy": "2024-04-21T00:37:38.384176Z",
          "iopub.execute_input": "2024-04-21T00:37:38.384866Z",
          "iopub.status.idle": "2024-04-21T00:38:50.022767Z",
          "shell.execute_reply.started": "2024-04-21T00:37:38.384810Z",
          "shell.execute_reply": "2024-04-21T00:38:50.021996Z"
        },
        "trusted": true,
        "id": "NeYK1s890Gtz"
      },
      "execution_count": null,
      "outputs": []
    },
    {
      "cell_type": "code",
      "source": [
        "#creating the labels\n",
        "top_non_pii['label'] = [0]*len(top_non_pii)\n",
        "all_piis['label'] = [1]*len(all_piis)"
      ],
      "metadata": {
        "execution": {
          "iopub.status.busy": "2024-04-21T00:38:50.024056Z",
          "iopub.execute_input": "2024-04-21T00:38:50.024409Z",
          "iopub.status.idle": "2024-04-21T00:38:50.482546Z",
          "shell.execute_reply.started": "2024-04-21T00:38:50.024378Z",
          "shell.execute_reply": "2024-04-21T00:38:50.481432Z"
        },
        "trusted": true,
        "id": "pvexXt-N0Gtz"
      },
      "execution_count": null,
      "outputs": []
    },
    {
      "cell_type": "code",
      "source": [
        "#combine the pii words and non-pii words to create a master dataset\n",
        "data = pd.concat([all_piis,top_non_pii], ignore_index=True)\n",
        "data.reset_index()\n",
        "#create X and Y dataset\n",
        "x = data[data.columns.difference(['label'])]\n",
        "y = data['label']"
      ],
      "metadata": {
        "execution": {
          "iopub.status.busy": "2024-04-21T00:38:50.483614Z",
          "iopub.execute_input": "2024-04-21T00:38:50.483943Z",
          "iopub.status.idle": "2024-04-21T00:38:52.550333Z",
          "shell.execute_reply.started": "2024-04-21T00:38:50.483917Z",
          "shell.execute_reply": "2024-04-21T00:38:52.549348Z"
        },
        "trusted": true,
        "id": "G75PQ_BU0Gtz"
      },
      "execution_count": null,
      "outputs": []
    },
    {
      "cell_type": "code",
      "source": [
        "from operator import index\n",
        "from sklearn.model_selection import train_test_split\n",
        "\n",
        "x_train, x_test, y_train, y_test = train_test_split(x,y,test_size=0.2)"
      ],
      "metadata": {
        "execution": {
          "iopub.status.busy": "2024-04-21T00:38:52.551640Z",
          "iopub.execute_input": "2024-04-21T00:38:52.552008Z",
          "iopub.status.idle": "2024-04-21T00:38:53.853435Z",
          "shell.execute_reply.started": "2024-04-21T00:38:52.551977Z",
          "shell.execute_reply": "2024-04-21T00:38:53.852263Z"
        },
        "trusted": true,
        "id": "Ng_3vtX90Gtz"
      },
      "execution_count": null,
      "outputs": []
    },
    {
      "cell_type": "code",
      "source": [
        "from keras.models import Sequential\n",
        "from keras.layers import Dense\n",
        "from keras.utils import to_categorical\n",
        "import torch\n",
        "import keras\n"
      ],
      "metadata": {
        "execution": {
          "iopub.status.busy": "2024-04-21T00:38:53.855484Z",
          "iopub.execute_input": "2024-04-21T00:38:53.855813Z",
          "iopub.status.idle": "2024-04-21T00:39:17.589059Z",
          "shell.execute_reply.started": "2024-04-21T00:38:53.855786Z",
          "shell.execute_reply": "2024-04-21T00:39:17.588029Z"
        },
        "trusted": true,
        "id": "o3xGfRTX0Gt0",
        "outputId": "6fc453e3-740e-46b5-8ee8-22ffc9a9b485"
      },
      "execution_count": null,
      "outputs": [
        {
          "name": "stderr",
          "text": "2024-04-21 00:38:57.393605: E external/local_xla/xla/stream_executor/cuda/cuda_dnn.cc:9261] Unable to register cuDNN factory: Attempting to register factory for plugin cuDNN when one has already been registered\n2024-04-21 00:38:57.393704: E external/local_xla/xla/stream_executor/cuda/cuda_fft.cc:607] Unable to register cuFFT factory: Attempting to register factory for plugin cuFFT when one has already been registered\n2024-04-21 00:38:57.659197: E external/local_xla/xla/stream_executor/cuda/cuda_blas.cc:1515] Unable to register cuBLAS factory: Attempting to register factory for plugin cuBLAS when one has already been registered\n",
          "output_type": "stream"
        }
      ]
    },
    {
      "cell_type": "code",
      "source": [
        "def create_model():\n",
        "    model = Sequential()\n",
        "    model.add(Dense(480, activation='relu'))\n",
        "    model.add(Dense(256, activation='relu'))\n",
        "    model.add(Dense(128, activation='relu'))\n",
        "    model.add(Dense(64, activation='relu'))\n",
        "    model.add(Dense(128, activation='leaky_relu'))\n",
        "    model.add(Dense(256, activation='leaky_relu'))\n",
        "    model.add(Dense(480, activation='leaky_relu'))\n",
        "    model.add(Dense(512, activation='leaky_relu'))\n",
        "    model.add(Dense(480, activation='relu'))\n",
        "    model.add(Dense(256, activation='relu'))\n",
        "    model.add(Dense(128, activation='relu'))\n",
        "    model.add(Dense(64, activation='relu'))\n",
        "    model.add(Dense(2, activation='sigmoid'))\n",
        "    model.compile(optimizer=keras.optimizers.AdamW(learning_rate=0.0001, weight_decay=0.001),\n",
        "                    loss='sparse_categorical_crossentropy',\n",
        "                    metrics=['accuracy'])\n",
        "    return model"
      ],
      "metadata": {
        "execution": {
          "iopub.status.busy": "2024-04-21T00:39:17.590222Z",
          "iopub.execute_input": "2024-04-21T00:39:17.590739Z",
          "iopub.status.idle": "2024-04-21T00:39:17.599314Z",
          "shell.execute_reply.started": "2024-04-21T00:39:17.590712Z",
          "shell.execute_reply": "2024-04-21T00:39:17.598398Z"
        },
        "trusted": true,
        "id": "4DIqoRkU0Gt0"
      },
      "execution_count": null,
      "outputs": []
    },
    {
      "cell_type": "code",
      "source": [
        "from sklearn.model_selection import KFold\n",
        "\n",
        "n_splits = 5\n",
        "\n",
        "# Initialize KFold\n",
        "kf = KFold(n_splits=n_splits, shuffle=True, random_state=42)\n",
        "\n",
        "# Initialize lists to store results\n",
        "accuracies = []\n",
        "max_acc = 0\n",
        "iteration_number = 1\n",
        "best_iter = 0\n",
        "\n",
        "# Iterate over folds\n",
        "\n",
        "for train_index, val_index in kf.split(x):\n",
        "\n",
        "    X_train, X_val = x.iloc[train_index], x.iloc[val_index]\n",
        "    y_train, y_val = y.iloc[train_index], y.iloc[val_index]\n",
        "\n",
        "    # Create and compile the model\n",
        "    model = create_model()\n",
        "\n",
        "    # Train the model\n",
        "    model.fit(X_train, y_train, epochs=20, batch_size=64)\n",
        "\n",
        "    # Evaluate the model\n",
        "    _, accuracy = model.evaluate(X_val, y_val, verbose=0)\n",
        "    accuracies.append(accuracy)\n",
        "    if(accuracy > max_acc):\n",
        "        max_acc = accuracy\n",
        "        file_name = f\"/kaggle/working/NeuralNetModel_20_04_2_{iteration_number}.h5\"\n",
        "        model.save(file_name)\n",
        "        best_iter = iteration_number\n",
        "    iteration_number = iteration_number + 1\n",
        "\n",
        "# Calculate and print the average accuracy\n",
        "avg_accuracy = np.mean(accuracies)\n",
        "print(\"Average Accuracy:\", avg_accuracy)"
      ],
      "metadata": {
        "execution": {
          "iopub.status.busy": "2024-04-21T00:39:17.600338Z",
          "iopub.execute_input": "2024-04-21T00:39:17.600586Z",
          "iopub.status.idle": "2024-04-21T01:48:09.684950Z",
          "shell.execute_reply.started": "2024-04-21T00:39:17.600564Z",
          "shell.execute_reply": "2024-04-21T01:48:09.683985Z"
        },
        "trusted": true,
        "id": "s8NCpFmE0Gt0",
        "outputId": "65fd191d-2f58-429f-e72b-7c4616f70c8b"
      },
      "execution_count": null,
      "outputs": [
        {
          "name": "stdout",
          "text": "Epoch 1/20\n\u001b[1m   57/13812\u001b[0m \u001b[37m━━━━━━━━━━━━━━━━━━━━\u001b[0m \u001b[1m38s\u001b[0m 3ms/step - accuracy: 0.7522 - loss: 0.5099  ",
          "output_type": "stream"
        },
        {
          "name": "stderr",
          "text": "WARNING: All log messages before absl::InitializeLog() is called are written to STDERR\nI0000 00:00:1713659968.908338      87 device_compiler.h:186] Compiled cluster using XLA!  This line is logged at most once for the lifetime of the process.\nW0000 00:00:1713659968.924999      87 graph_launch.cc:671] Fallback to op-by-op mode because memset node breaks graph update\n",
          "output_type": "stream"
        },
        {
          "name": "stdout",
          "text": "\u001b[1m13812/13812\u001b[0m \u001b[32m━━━━━━━━━━━━━━━━━━━━\u001b[0m\u001b[37m\u001b[0m \u001b[1m49s\u001b[0m 3ms/step - accuracy: 0.9579 - loss: 0.1391\nEpoch 2/20\n\u001b[1m13812/13812\u001b[0m \u001b[32m━━━━━━━━━━━━━━━━━━━━\u001b[0m\u001b[37m\u001b[0m \u001b[1m39s\u001b[0m 3ms/step - accuracy: 0.9684 - loss: 0.1062\nEpoch 3/20\n\u001b[1m13812/13812\u001b[0m \u001b[32m━━━━━━━━━━━━━━━━━━━━\u001b[0m\u001b[37m\u001b[0m \u001b[1m40s\u001b[0m 3ms/step - accuracy: 0.9712 - loss: 0.0938\nEpoch 4/20\n\u001b[1m13812/13812\u001b[0m \u001b[32m━━━━━━━━━━━━━━━━━━━━\u001b[0m\u001b[37m\u001b[0m \u001b[1m40s\u001b[0m 3ms/step - accuracy: 0.9733 - loss: 0.0837\nEpoch 5/20\n\u001b[1m13812/13812\u001b[0m \u001b[32m━━━━━━━━━━━━━━━━━━━━\u001b[0m\u001b[37m\u001b[0m \u001b[1m40s\u001b[0m 3ms/step - accuracy: 0.9761 - loss: 0.0743\nEpoch 6/20\n\u001b[1m13812/13812\u001b[0m \u001b[32m━━━━━━━━━━━━━━━━━━━━\u001b[0m\u001b[37m\u001b[0m \u001b[1m40s\u001b[0m 3ms/step - accuracy: 0.9780 - loss: 0.0678\nEpoch 7/20\n\u001b[1m13812/13812\u001b[0m \u001b[32m━━━━━━━━━━━━━━━━━━━━\u001b[0m\u001b[37m\u001b[0m \u001b[1m39s\u001b[0m 3ms/step - accuracy: 0.9801 - loss: 0.0609\nEpoch 8/20\n\u001b[1m13812/13812\u001b[0m \u001b[32m━━━━━━━━━━━━━━━━━━━━\u001b[0m\u001b[37m\u001b[0m \u001b[1m40s\u001b[0m 3ms/step - accuracy: 0.9813 - loss: 0.0563\nEpoch 9/20\n\u001b[1m13812/13812\u001b[0m \u001b[32m━━━━━━━━━━━━━━━━━━━━\u001b[0m\u001b[37m\u001b[0m \u001b[1m40s\u001b[0m 3ms/step - accuracy: 0.9828 - loss: 0.0519\nEpoch 10/20\n\u001b[1m13812/13812\u001b[0m \u001b[32m━━━━━━━━━━━━━━━━━━━━\u001b[0m\u001b[37m\u001b[0m \u001b[1m40s\u001b[0m 3ms/step - accuracy: 0.9839 - loss: 0.0488\nEpoch 11/20\n\u001b[1m13812/13812\u001b[0m \u001b[32m━━━━━━━━━━━━━━━━━━━━\u001b[0m\u001b[37m\u001b[0m \u001b[1m40s\u001b[0m 3ms/step - accuracy: 0.9852 - loss: 0.0455\nEpoch 12/20\n\u001b[1m13812/13812\u001b[0m \u001b[32m━━━━━━━━━━━━━━━━━━━━\u001b[0m\u001b[37m\u001b[0m \u001b[1m40s\u001b[0m 3ms/step - accuracy: 0.9860 - loss: 0.0427\nEpoch 13/20\n\u001b[1m13812/13812\u001b[0m \u001b[32m━━━━━━━━━━━━━━━━━━━━\u001b[0m\u001b[37m\u001b[0m \u001b[1m40s\u001b[0m 3ms/step - accuracy: 0.9867 - loss: 0.0405\nEpoch 14/20\n\u001b[1m13812/13812\u001b[0m \u001b[32m━━━━━━━━━━━━━━━━━━━━\u001b[0m\u001b[37m\u001b[0m \u001b[1m40s\u001b[0m 3ms/step - accuracy: 0.9872 - loss: 0.0388\nEpoch 15/20\n\u001b[1m13812/13812\u001b[0m \u001b[32m━━━━━━━━━━━━━━━━━━━━\u001b[0m\u001b[37m\u001b[0m \u001b[1m39s\u001b[0m 3ms/step - accuracy: 0.9882 - loss: 0.0363\nEpoch 16/20\n\u001b[1m13812/13812\u001b[0m \u001b[32m━━━━━━━━━━━━━━━━━━━━\u001b[0m\u001b[37m\u001b[0m \u001b[1m40s\u001b[0m 3ms/step - accuracy: 0.9884 - loss: 0.0350\nEpoch 17/20\n\u001b[1m13812/13812\u001b[0m \u001b[32m━━━━━━━━━━━━━━━━━━━━\u001b[0m\u001b[37m\u001b[0m \u001b[1m40s\u001b[0m 3ms/step - accuracy: 0.9891 - loss: 0.0333\nEpoch 18/20\n\u001b[1m13812/13812\u001b[0m \u001b[32m━━━━━━━━━━━━━━━━━━━━\u001b[0m\u001b[37m\u001b[0m \u001b[1m40s\u001b[0m 3ms/step - accuracy: 0.9897 - loss: 0.0314\nEpoch 19/20\n\u001b[1m13812/13812\u001b[0m \u001b[32m━━━━━━━━━━━━━━━━━━━━\u001b[0m\u001b[37m\u001b[0m \u001b[1m40s\u001b[0m 3ms/step - accuracy: 0.9897 - loss: 0.0308\nEpoch 20/20\n\u001b[1m13812/13812\u001b[0m \u001b[32m━━━━━━━━━━━━━━━━━━━━\u001b[0m\u001b[37m\u001b[0m \u001b[1m40s\u001b[0m 3ms/step - accuracy: 0.9900 - loss: 0.0294\nEpoch 1/20\n\u001b[1m   51/13812\u001b[0m \u001b[37m━━━━━━━━━━━━━━━━━━━━\u001b[0m \u001b[1m43s\u001b[0m 3ms/step - accuracy: 0.9180 - loss: 0.3187  ",
          "output_type": "stream"
        },
        {
          "name": "stderr",
          "text": "W0000 00:00:1713660787.108949      86 graph_launch.cc:671] Fallback to op-by-op mode because memset node breaks graph update\n",
          "output_type": "stream"
        },
        {
          "name": "stdout",
          "text": "\u001b[1m13812/13812\u001b[0m \u001b[32m━━━━━━━━━━━━━━━━━━━━\u001b[0m\u001b[37m\u001b[0m \u001b[1m46s\u001b[0m 3ms/step - accuracy: 0.9597 - loss: 0.1360\nEpoch 2/20\n\u001b[1m13812/13812\u001b[0m \u001b[32m━━━━━━━━━━━━━━━━━━━━\u001b[0m\u001b[37m\u001b[0m \u001b[1m40s\u001b[0m 3ms/step - accuracy: 0.9685 - loss: 0.1052\nEpoch 3/20\n\u001b[1m13812/13812\u001b[0m \u001b[32m━━━━━━━━━━━━━━━━━━━━\u001b[0m\u001b[37m\u001b[0m \u001b[1m40s\u001b[0m 3ms/step - accuracy: 0.9715 - loss: 0.0921\nEpoch 4/20\n\u001b[1m13812/13812\u001b[0m \u001b[32m━━━━━━━━━━━━━━━━━━━━\u001b[0m\u001b[37m\u001b[0m \u001b[1m40s\u001b[0m 3ms/step - accuracy: 0.9743 - loss: 0.0811\nEpoch 5/20\n\u001b[1m13812/13812\u001b[0m \u001b[32m━━━━━━━━━━━━━━━━━━━━\u001b[0m\u001b[37m\u001b[0m \u001b[1m40s\u001b[0m 3ms/step - accuracy: 0.9761 - loss: 0.0732\nEpoch 6/20\n\u001b[1m13812/13812\u001b[0m \u001b[32m━━━━━━━━━━━━━━━━━━━━\u001b[0m\u001b[37m\u001b[0m \u001b[1m40s\u001b[0m 3ms/step - accuracy: 0.9786 - loss: 0.0656\nEpoch 7/20\n\u001b[1m13812/13812\u001b[0m \u001b[32m━━━━━━━━━━━━━━━━━━━━\u001b[0m\u001b[37m\u001b[0m \u001b[1m40s\u001b[0m 3ms/step - accuracy: 0.9810 - loss: 0.0580\nEpoch 8/20\n\u001b[1m13812/13812\u001b[0m \u001b[32m━━━━━━━━━━━━━━━━━━━━\u001b[0m\u001b[37m\u001b[0m \u001b[1m40s\u001b[0m 3ms/step - accuracy: 0.9824 - loss: 0.0538\nEpoch 9/20\n\u001b[1m13812/13812\u001b[0m \u001b[32m━━━━━━━━━━━━━━━━━━━━\u001b[0m\u001b[37m\u001b[0m \u001b[1m40s\u001b[0m 3ms/step - accuracy: 0.9840 - loss: 0.0486\nEpoch 10/20\n\u001b[1m13812/13812\u001b[0m \u001b[32m━━━━━━━━━━━━━━━━━━━━\u001b[0m\u001b[37m\u001b[0m \u001b[1m40s\u001b[0m 3ms/step - accuracy: 0.9850 - loss: 0.0457\nEpoch 11/20\n\u001b[1m13812/13812\u001b[0m \u001b[32m━━━━━━━━━━━━━━━━━━━━\u001b[0m\u001b[37m\u001b[0m \u001b[1m40s\u001b[0m 3ms/step - accuracy: 0.9860 - loss: 0.0426\nEpoch 12/20\n\u001b[1m13812/13812\u001b[0m \u001b[32m━━━━━━━━━━━━━━━━━━━━\u001b[0m\u001b[37m\u001b[0m \u001b[1m40s\u001b[0m 3ms/step - accuracy: 0.9869 - loss: 0.0400\nEpoch 13/20\n\u001b[1m13812/13812\u001b[0m \u001b[32m━━━━━━━━━━━━━━━━━━━━\u001b[0m\u001b[37m\u001b[0m \u001b[1m40s\u001b[0m 3ms/step - accuracy: 0.9875 - loss: 0.0382\nEpoch 14/20\n\u001b[1m13812/13812\u001b[0m \u001b[32m━━━━━━━━━━━━━━━━━━━━\u001b[0m\u001b[37m\u001b[0m \u001b[1m40s\u001b[0m 3ms/step - accuracy: 0.9881 - loss: 0.0355\nEpoch 15/20\n\u001b[1m13812/13812\u001b[0m \u001b[32m━━━━━━━━━━━━━━━━━━━━\u001b[0m\u001b[37m\u001b[0m \u001b[1m40s\u001b[0m 3ms/step - accuracy: 0.9888 - loss: 0.0338\nEpoch 16/20\n\u001b[1m13812/13812\u001b[0m \u001b[32m━━━━━━━━━━━━━━━━━━━━\u001b[0m\u001b[37m\u001b[0m \u001b[1m40s\u001b[0m 3ms/step - accuracy: 0.9891 - loss: 0.0327\nEpoch 17/20\n\u001b[1m13812/13812\u001b[0m \u001b[32m━━━━━━━━━━━━━━━━━━━━\u001b[0m\u001b[37m\u001b[0m \u001b[1m40s\u001b[0m 3ms/step - accuracy: 0.9898 - loss: 0.0311\nEpoch 18/20\n\u001b[1m13812/13812\u001b[0m \u001b[32m━━━━━━━━━━━━━━━━━━━━\u001b[0m\u001b[37m\u001b[0m \u001b[1m40s\u001b[0m 3ms/step - accuracy: 0.9901 - loss: 0.0304\nEpoch 19/20\n\u001b[1m13812/13812\u001b[0m \u001b[32m━━━━━━━━━━━━━━━━━━━━\u001b[0m\u001b[37m\u001b[0m \u001b[1m40s\u001b[0m 3ms/step - accuracy: 0.9903 - loss: 0.0292\nEpoch 20/20\n\u001b[1m13812/13812\u001b[0m \u001b[32m━━━━━━━━━━━━━━━━━━━━\u001b[0m\u001b[37m\u001b[0m \u001b[1m40s\u001b[0m 3ms/step - accuracy: 0.9908 - loss: 0.0279\nEpoch 1/20\n\u001b[1m   50/13812\u001b[0m \u001b[37m━━━━━━━━━━━━━━━━━━━━\u001b[0m \u001b[1m43s\u001b[0m 3ms/step - accuracy: 0.8508 - loss: 0.3750  ",
          "output_type": "stream"
        },
        {
          "name": "stderr",
          "text": "W0000 00:00:1713661608.009169      87 graph_launch.cc:671] Fallback to op-by-op mode because memset node breaks graph update\n",
          "output_type": "stream"
        },
        {
          "name": "stdout",
          "text": "\u001b[1m13812/13812\u001b[0m \u001b[32m━━━━━━━━━━━━━━━━━━━━\u001b[0m\u001b[37m\u001b[0m \u001b[1m47s\u001b[0m 3ms/step - accuracy: 0.9590 - loss: 0.1373\nEpoch 2/20\n\u001b[1m13812/13812\u001b[0m \u001b[32m━━━━━━━━━━━━━━━━━━━━\u001b[0m\u001b[37m\u001b[0m \u001b[1m41s\u001b[0m 3ms/step - accuracy: 0.9687 - loss: 0.1049\nEpoch 3/20\n\u001b[1m13812/13812\u001b[0m \u001b[32m━━━━━━━━━━━━━━━━━━━━\u001b[0m\u001b[37m\u001b[0m \u001b[1m41s\u001b[0m 3ms/step - accuracy: 0.9721 - loss: 0.0904\nEpoch 4/20\n\u001b[1m13812/13812\u001b[0m \u001b[32m━━━━━━━━━━━━━━━━━━━━\u001b[0m\u001b[37m\u001b[0m \u001b[1m41s\u001b[0m 3ms/step - accuracy: 0.9740 - loss: 0.0810\nEpoch 5/20\n\u001b[1m13812/13812\u001b[0m \u001b[32m━━━━━━━━━━━━━━━━━━━━\u001b[0m\u001b[37m\u001b[0m \u001b[1m41s\u001b[0m 3ms/step - accuracy: 0.9769 - loss: 0.0713\nEpoch 6/20\n\u001b[1m13812/13812\u001b[0m \u001b[32m━━━━━━━━━━━━━━━━━━━━\u001b[0m\u001b[37m\u001b[0m \u001b[1m41s\u001b[0m 3ms/step - accuracy: 0.9789 - loss: 0.0643\nEpoch 7/20\n\u001b[1m13812/13812\u001b[0m \u001b[32m━━━━━━━━━━━━━━━━━━━━\u001b[0m\u001b[37m\u001b[0m \u001b[1m41s\u001b[0m 3ms/step - accuracy: 0.9802 - loss: 0.0592\nEpoch 8/20\n\u001b[1m13812/13812\u001b[0m \u001b[32m━━━━━━━━━━━━━━━━━━━━\u001b[0m\u001b[37m\u001b[0m \u001b[1m41s\u001b[0m 3ms/step - accuracy: 0.9823 - loss: 0.0534\nEpoch 9/20\n\u001b[1m13812/13812\u001b[0m \u001b[32m━━━━━━━━━━━━━━━━━━━━\u001b[0m\u001b[37m\u001b[0m \u001b[1m41s\u001b[0m 3ms/step - accuracy: 0.9835 - loss: 0.0499\nEpoch 10/20\n\u001b[1m13812/13812\u001b[0m \u001b[32m━━━━━━━━━━━━━━━━━━━━\u001b[0m\u001b[37m\u001b[0m \u001b[1m41s\u001b[0m 3ms/step - accuracy: 0.9845 - loss: 0.0466\nEpoch 11/20\n\u001b[1m13812/13812\u001b[0m \u001b[32m━━━━━━━━━━━━━━━━━━━━\u001b[0m\u001b[37m\u001b[0m \u001b[1m41s\u001b[0m 3ms/step - accuracy: 0.9860 - loss: 0.0425\nEpoch 12/20\n\u001b[1m13812/13812\u001b[0m \u001b[32m━━━━━━━━━━━━━━━━━━━━\u001b[0m\u001b[37m\u001b[0m \u001b[1m41s\u001b[0m 3ms/step - accuracy: 0.9866 - loss: 0.0403\nEpoch 13/20\n\u001b[1m13812/13812\u001b[0m \u001b[32m━━━━━━━━━━━━━━━━━━━━\u001b[0m\u001b[37m\u001b[0m \u001b[1m41s\u001b[0m 3ms/step - accuracy: 0.9870 - loss: 0.0386\nEpoch 14/20\n\u001b[1m13812/13812\u001b[0m \u001b[32m━━━━━━━━━━━━━━━━━━━━\u001b[0m\u001b[37m\u001b[0m \u001b[1m41s\u001b[0m 3ms/step - accuracy: 0.9881 - loss: 0.0361\nEpoch 15/20\n\u001b[1m13812/13812\u001b[0m \u001b[32m━━━━━━━━━━━━━━━━━━━━\u001b[0m\u001b[37m\u001b[0m \u001b[1m41s\u001b[0m 3ms/step - accuracy: 0.9888 - loss: 0.0340\nEpoch 16/20\n\u001b[1m13812/13812\u001b[0m \u001b[32m━━━━━━━━━━━━━━━━━━━━\u001b[0m\u001b[37m\u001b[0m \u001b[1m41s\u001b[0m 3ms/step - accuracy: 0.9894 - loss: 0.0328\nEpoch 17/20\n\u001b[1m13812/13812\u001b[0m \u001b[32m━━━━━━━━━━━━━━━━━━━━\u001b[0m\u001b[37m\u001b[0m \u001b[1m41s\u001b[0m 3ms/step - accuracy: 0.9897 - loss: 0.0311\nEpoch 18/20\n\u001b[1m13812/13812\u001b[0m \u001b[32m━━━━━━━━━━━━━━━━━━━━\u001b[0m\u001b[37m\u001b[0m \u001b[1m40s\u001b[0m 3ms/step - accuracy: 0.9898 - loss: 0.0308\nEpoch 19/20\n\u001b[1m13812/13812\u001b[0m \u001b[32m━━━━━━━━━━━━━━━━━━━━\u001b[0m\u001b[37m\u001b[0m \u001b[1m41s\u001b[0m 3ms/step - accuracy: 0.9902 - loss: 0.0293\nEpoch 20/20\n\u001b[1m13812/13812\u001b[0m \u001b[32m━━━━━━━━━━━━━━━━━━━━\u001b[0m\u001b[37m\u001b[0m \u001b[1m40s\u001b[0m 3ms/step - accuracy: 0.9907 - loss: 0.0284\nEpoch 1/20\n\u001b[1m   51/13812\u001b[0m \u001b[37m━━━━━━━━━━━━━━━━━━━━\u001b[0m \u001b[1m43s\u001b[0m 3ms/step - accuracy: 0.8525 - loss: 0.3683  ",
          "output_type": "stream"
        },
        {
          "name": "stderr",
          "text": "W0000 00:00:1713662447.459784      88 graph_launch.cc:671] Fallback to op-by-op mode because memset node breaks graph update\n",
          "output_type": "stream"
        },
        {
          "name": "stdout",
          "text": "\u001b[1m13812/13812\u001b[0m \u001b[32m━━━━━━━━━━━━━━━━━━━━\u001b[0m\u001b[37m\u001b[0m \u001b[1m47s\u001b[0m 3ms/step - accuracy: 0.9591 - loss: 0.1370\nEpoch 2/20\n\u001b[1m13812/13812\u001b[0m \u001b[32m━━━━━━━━━━━━━━━━━━━━\u001b[0m\u001b[37m\u001b[0m \u001b[1m40s\u001b[0m 3ms/step - accuracy: 0.9683 - loss: 0.1065\nEpoch 3/20\n\u001b[1m13812/13812\u001b[0m \u001b[32m━━━━━━━━━━━━━━━━━━━━\u001b[0m\u001b[37m\u001b[0m \u001b[1m40s\u001b[0m 3ms/step - accuracy: 0.9711 - loss: 0.0940\nEpoch 4/20\n\u001b[1m13812/13812\u001b[0m \u001b[32m━━━━━━━━━━━━━━━━━━━━\u001b[0m\u001b[37m\u001b[0m \u001b[1m40s\u001b[0m 3ms/step - accuracy: 0.9736 - loss: 0.0824\nEpoch 5/20\n\u001b[1m13812/13812\u001b[0m \u001b[32m━━━━━━━━━━━━━━━━━━━━\u001b[0m\u001b[37m\u001b[0m \u001b[1m40s\u001b[0m 3ms/step - accuracy: 0.9757 - loss: 0.0744\nEpoch 6/20\n\u001b[1m13812/13812\u001b[0m \u001b[32m━━━━━━━━━━━━━━━━━━━━\u001b[0m\u001b[37m\u001b[0m \u001b[1m40s\u001b[0m 3ms/step - accuracy: 0.9782 - loss: 0.0668\nEpoch 7/20\n\u001b[1m13812/13812\u001b[0m \u001b[32m━━━━━━━━━━━━━━━━━━━━\u001b[0m\u001b[37m\u001b[0m \u001b[1m40s\u001b[0m 3ms/step - accuracy: 0.9803 - loss: 0.0600\nEpoch 8/20\n\u001b[1m13812/13812\u001b[0m \u001b[32m━━━━━━━━━━━━━━━━━━━━\u001b[0m\u001b[37m\u001b[0m \u001b[1m40s\u001b[0m 3ms/step - accuracy: 0.9819 - loss: 0.0547\nEpoch 9/20\n\u001b[1m13812/13812\u001b[0m \u001b[32m━━━━━━━━━━━━━━━━━━━━\u001b[0m\u001b[37m\u001b[0m \u001b[1m40s\u001b[0m 3ms/step - accuracy: 0.9832 - loss: 0.0506\nEpoch 10/20\n\u001b[1m13812/13812\u001b[0m \u001b[32m━━━━━━━━━━━━━━━━━━━━\u001b[0m\u001b[37m\u001b[0m \u001b[1m40s\u001b[0m 3ms/step - accuracy: 0.9845 - loss: 0.0467\nEpoch 11/20\n\u001b[1m13812/13812\u001b[0m \u001b[32m━━━━━━━━━━━━━━━━━━━━\u001b[0m\u001b[37m\u001b[0m \u001b[1m41s\u001b[0m 3ms/step - accuracy: 0.9857 - loss: 0.0434\nEpoch 12/20\n\u001b[1m13812/13812\u001b[0m \u001b[32m━━━━━━━━━━━━━━━━━━━━\u001b[0m\u001b[37m\u001b[0m \u001b[1m40s\u001b[0m 3ms/step - accuracy: 0.9865 - loss: 0.0409\nEpoch 13/20\n\u001b[1m13812/13812\u001b[0m \u001b[32m━━━━━━━━━━━━━━━━━━━━\u001b[0m\u001b[37m\u001b[0m \u001b[1m40s\u001b[0m 3ms/step - accuracy: 0.9871 - loss: 0.0391\nEpoch 14/20\n\u001b[1m13812/13812\u001b[0m \u001b[32m━━━━━━━━━━━━━━━━━━━━\u001b[0m\u001b[37m\u001b[0m \u001b[1m40s\u001b[0m 3ms/step - accuracy: 0.9878 - loss: 0.0367\nEpoch 15/20\n\u001b[1m13812/13812\u001b[0m \u001b[32m━━━━━━━━━━━━━━━━━━━━\u001b[0m\u001b[37m\u001b[0m \u001b[1m40s\u001b[0m 3ms/step - accuracy: 0.9885 - loss: 0.0350\nEpoch 16/20\n\u001b[1m13812/13812\u001b[0m \u001b[32m━━━━━━━━━━━━━━━━━━━━\u001b[0m\u001b[37m\u001b[0m \u001b[1m40s\u001b[0m 3ms/step - accuracy: 0.9890 - loss: 0.0331\nEpoch 17/20\n\u001b[1m13812/13812\u001b[0m \u001b[32m━━━━━━━━━━━━━━━━━━━━\u001b[0m\u001b[37m\u001b[0m \u001b[1m40s\u001b[0m 3ms/step - accuracy: 0.9894 - loss: 0.0324\nEpoch 18/20\n\u001b[1m13812/13812\u001b[0m \u001b[32m━━━━━━━━━━━━━━━━━━━━\u001b[0m\u001b[37m\u001b[0m \u001b[1m40s\u001b[0m 3ms/step - accuracy: 0.9898 - loss: 0.0311\nEpoch 19/20\n\u001b[1m13812/13812\u001b[0m \u001b[32m━━━━━━━━━━━━━━━━━━━━\u001b[0m\u001b[37m\u001b[0m \u001b[1m41s\u001b[0m 3ms/step - accuracy: 0.9902 - loss: 0.0296\nEpoch 20/20\n\u001b[1m13812/13812\u001b[0m \u001b[32m━━━━━━━━━━━━━━━━━━━━\u001b[0m\u001b[37m\u001b[0m \u001b[1m40s\u001b[0m 3ms/step - accuracy: 0.9908 - loss: 0.0285\nEpoch 1/20\n\u001b[1m   48/13812\u001b[0m \u001b[37m━━━━━━━━━━━━━━━━━━━━\u001b[0m \u001b[1m45s\u001b[0m 3ms/step - accuracy: 0.7860 - loss: 0.4685  ",
          "output_type": "stream"
        },
        {
          "name": "stderr",
          "text": "W0000 00:00:1713663274.057956      88 graph_launch.cc:671] Fallback to op-by-op mode because memset node breaks graph update\n",
          "output_type": "stream"
        },
        {
          "name": "stdout",
          "text": "\u001b[1m13812/13812\u001b[0m \u001b[32m━━━━━━━━━━━━━━━━━━━━\u001b[0m\u001b[37m\u001b[0m \u001b[1m47s\u001b[0m 3ms/step - accuracy: 0.9591 - loss: 0.1367\nEpoch 2/20\n\u001b[1m13812/13812\u001b[0m \u001b[32m━━━━━━━━━━━━━━━━━━━━\u001b[0m\u001b[37m\u001b[0m \u001b[1m40s\u001b[0m 3ms/step - accuracy: 0.9685 - loss: 0.1046\nEpoch 3/20\n\u001b[1m13812/13812\u001b[0m \u001b[32m━━━━━━━━━━━━━━━━━━━━\u001b[0m\u001b[37m\u001b[0m \u001b[1m40s\u001b[0m 3ms/step - accuracy: 0.9716 - loss: 0.0922\nEpoch 4/20\n\u001b[1m13812/13812\u001b[0m \u001b[32m━━━━━━━━━━━━━━━━━━━━\u001b[0m\u001b[37m\u001b[0m \u001b[1m40s\u001b[0m 3ms/step - accuracy: 0.9741 - loss: 0.0818\nEpoch 5/20\n\u001b[1m13812/13812\u001b[0m \u001b[32m━━━━━━━━━━━━━━━━━━━━\u001b[0m\u001b[37m\u001b[0m \u001b[1m40s\u001b[0m 3ms/step - accuracy: 0.9765 - loss: 0.0724\nEpoch 6/20\n\u001b[1m13812/13812\u001b[0m \u001b[32m━━━━━━━━━━━━━━━━━━━━\u001b[0m\u001b[37m\u001b[0m \u001b[1m40s\u001b[0m 3ms/step - accuracy: 0.9788 - loss: 0.0651\nEpoch 7/20\n\u001b[1m13812/13812\u001b[0m \u001b[32m━━━━━━━━━━━━━━━━━━━━\u001b[0m\u001b[37m\u001b[0m \u001b[1m40s\u001b[0m 3ms/step - accuracy: 0.9809 - loss: 0.0586\nEpoch 8/20\n\u001b[1m13812/13812\u001b[0m \u001b[32m━━━━━━━━━━━━━━━━━━━━\u001b[0m\u001b[37m\u001b[0m \u001b[1m40s\u001b[0m 3ms/step - accuracy: 0.9825 - loss: 0.0536\nEpoch 9/20\n\u001b[1m13812/13812\u001b[0m \u001b[32m━━━━━━━━━━━━━━━━━━━━\u001b[0m\u001b[37m\u001b[0m \u001b[1m40s\u001b[0m 3ms/step - accuracy: 0.9836 - loss: 0.0496\nEpoch 10/20\n\u001b[1m13812/13812\u001b[0m \u001b[32m━━━━━━━━━━━━━━━━━━━━\u001b[0m\u001b[37m\u001b[0m \u001b[1m40s\u001b[0m 3ms/step - accuracy: 0.9845 - loss: 0.0464\nEpoch 11/20\n\u001b[1m13812/13812\u001b[0m \u001b[32m━━━━━━━━━━━━━━━━━━━━\u001b[0m\u001b[37m\u001b[0m \u001b[1m40s\u001b[0m 3ms/step - accuracy: 0.9861 - loss: 0.0430\nEpoch 12/20\n\u001b[1m13812/13812\u001b[0m \u001b[32m━━━━━━━━━━━━━━━━━━━━\u001b[0m\u001b[37m\u001b[0m \u001b[1m41s\u001b[0m 3ms/step - accuracy: 0.9866 - loss: 0.0407\nEpoch 13/20\n\u001b[1m13812/13812\u001b[0m \u001b[32m━━━━━━━━━━━━━━━━━━━━\u001b[0m\u001b[37m\u001b[0m \u001b[1m40s\u001b[0m 3ms/step - accuracy: 0.9876 - loss: 0.0382\nEpoch 14/20\n\u001b[1m13812/13812\u001b[0m \u001b[32m━━━━━━━━━━━━━━━━━━━━\u001b[0m\u001b[37m\u001b[0m \u001b[1m40s\u001b[0m 3ms/step - accuracy: 0.9883 - loss: 0.0361\nEpoch 15/20\n\u001b[1m13812/13812\u001b[0m \u001b[32m━━━━━━━━━━━━━━━━━━━━\u001b[0m\u001b[37m\u001b[0m \u001b[1m40s\u001b[0m 3ms/step - accuracy: 0.9886 - loss: 0.0348\nEpoch 16/20\n\u001b[1m13812/13812\u001b[0m \u001b[32m━━━━━━━━━━━━━━━━━━━━\u001b[0m\u001b[37m\u001b[0m \u001b[1m40s\u001b[0m 3ms/step - accuracy: 0.9891 - loss: 0.0332\nEpoch 17/20\n\u001b[1m13812/13812\u001b[0m \u001b[32m━━━━━━━━━━━━━━━━━━━━\u001b[0m\u001b[37m\u001b[0m \u001b[1m40s\u001b[0m 3ms/step - accuracy: 0.9897 - loss: 0.0312\nEpoch 18/20\n\u001b[1m13812/13812\u001b[0m \u001b[32m━━━━━━━━━━━━━━━━━━━━\u001b[0m\u001b[37m\u001b[0m \u001b[1m40s\u001b[0m 3ms/step - accuracy: 0.9899 - loss: 0.0302\nEpoch 19/20\n\u001b[1m13812/13812\u001b[0m \u001b[32m━━━━━━━━━━━━━━━━━━━━\u001b[0m\u001b[37m\u001b[0m \u001b[1m40s\u001b[0m 3ms/step - accuracy: 0.9904 - loss: 0.0295\nEpoch 20/20\n\u001b[1m13812/13812\u001b[0m \u001b[32m━━━━━━━━━━━━━━━━━━━━\u001b[0m\u001b[37m\u001b[0m \u001b[1m40s\u001b[0m 3ms/step - accuracy: 0.9906 - loss: 0.0285\nAverage Accuracy: 0.9892207264900208\n",
          "output_type": "stream"
        }
      ]
    },
    {
      "cell_type": "code",
      "source": [
        "print(best_iter)"
      ],
      "metadata": {
        "execution": {
          "iopub.status.busy": "2024-04-21T01:48:09.686240Z",
          "iopub.execute_input": "2024-04-21T01:48:09.686607Z",
          "iopub.status.idle": "2024-04-21T01:48:09.691340Z",
          "shell.execute_reply.started": "2024-04-21T01:48:09.686571Z",
          "shell.execute_reply": "2024-04-21T01:48:09.690498Z"
        },
        "trusted": true,
        "id": "9ReW3tjp0Gt0",
        "outputId": "729a76ca-4863-4854-962b-d38f43c03c21"
      },
      "execution_count": null,
      "outputs": [
        {
          "name": "stdout",
          "text": "5\n",
          "output_type": "stream"
        }
      ]
    },
    {
      "cell_type": "code",
      "source": [
        "#Loading the model\n",
        "from tensorflow.keras.models import load_model\n",
        "model_path = f\"/kaggle/working/NeuralNetModel_20_04_2_{best_iter}.h5\"\n",
        "model = load_model(model_path)\n",
        "y_pred_nn = model.predict(x_test)\n",
        "correct = 0\n",
        "tot = 0\n",
        "for idx,iter in enumerate(y_pred_nn):\n",
        "  tot += 1\n",
        "  if y_pred_nn[idx][0] > y_pred_nn[idx][1]:\n",
        "    if (y_test.iloc[idx] == 0):\n",
        "      correct +=1\n",
        "  else:\n",
        "    if (y_test.iloc[idx] == 1):\n",
        "      correct +=1\n",
        "acc = correct/tot"
      ],
      "metadata": {
        "execution": {
          "iopub.status.busy": "2024-04-21T01:49:55.725696Z",
          "iopub.execute_input": "2024-04-21T01:49:55.726402Z",
          "iopub.status.idle": "2024-04-21T01:50:14.197898Z",
          "shell.execute_reply.started": "2024-04-21T01:49:55.726368Z",
          "shell.execute_reply": "2024-04-21T01:50:14.197077Z"
        },
        "trusted": true,
        "id": "kaGNkI2W0Gt0",
        "outputId": "70406d8e-850d-4b55-9ffa-2cddfd19635d"
      },
      "execution_count": null,
      "outputs": [
        {
          "name": "stdout",
          "text": "\u001b[1m6906/6906\u001b[0m \u001b[32m━━━━━━━━━━━━━━━━━━━━\u001b[0m\u001b[37m\u001b[0m \u001b[1m11s\u001b[0m 2ms/step\n",
          "output_type": "stream"
        }
      ]
    },
    {
      "cell_type": "code",
      "source": [
        "acc"
      ],
      "metadata": {
        "execution": {
          "iopub.status.busy": "2024-04-21T01:50:14.199504Z",
          "iopub.execute_input": "2024-04-21T01:50:14.199790Z",
          "iopub.status.idle": "2024-04-21T01:50:14.206865Z",
          "shell.execute_reply.started": "2024-04-21T01:50:14.199766Z",
          "shell.execute_reply": "2024-04-21T01:50:14.206015Z"
        },
        "trusted": true,
        "id": "2bEUlAjn0Gt1",
        "outputId": "5e353874-bb7a-4303-91db-cc8ba99d68ce"
      },
      "execution_count": null,
      "outputs": [
        {
          "execution_count": 26,
          "output_type": "execute_result",
          "data": {
            "text/plain": "0.9914924427550005"
          },
          "metadata": {}
        }
      ]
    },
    {
      "cell_type": "code",
      "source": [
        "count = 0\n",
        "for idx,iter in enumerate(y_pred_nn):\n",
        "  if y_test.iloc[idx] == 1 and iter[0] <= iter[1]:\n",
        "    count+=1\n",
        "\n",
        "count * 100 / y_test.sum()"
      ],
      "metadata": {
        "execution": {
          "iopub.status.busy": "2024-04-21T01:54:13.078475Z",
          "iopub.execute_input": "2024-04-21T01:54:13.079061Z",
          "iopub.status.idle": "2024-04-21T01:54:15.323964Z",
          "shell.execute_reply.started": "2024-04-21T01:54:13.079029Z",
          "shell.execute_reply": "2024-04-21T01:54:15.323059Z"
        },
        "trusted": true,
        "id": "5hbdc0Mi0Gt1",
        "outputId": "761846b0-0ee2-48d0-b71e-9630fa3a5368"
      },
      "execution_count": null,
      "outputs": [
        {
          "execution_count": 27,
          "output_type": "execute_result",
          "data": {
            "text/plain": "93.19393406138398"
          },
          "metadata": {}
        }
      ]
    },
    {
      "cell_type": "code",
      "source": [
        "model.save('/kaggle/working/NeuralNetModel_20_04_2_Final.h5')"
      ],
      "metadata": {
        "execution": {
          "iopub.status.busy": "2024-04-21T01:54:39.941939Z",
          "iopub.execute_input": "2024-04-21T01:54:39.942782Z",
          "iopub.status.idle": "2024-04-21T01:54:39.978501Z",
          "shell.execute_reply.started": "2024-04-21T01:54:39.942748Z",
          "shell.execute_reply": "2024-04-21T01:54:39.977773Z"
        },
        "trusted": true,
        "id": "ZPcIdxWB0Gt1"
      },
      "execution_count": null,
      "outputs": []
    },
    {
      "cell_type": "code",
      "source": [
        "#True Positives\n",
        "count = 0\n",
        "for idx,iter in enumerate(y_pred_nn):\n",
        "  if y_test.iloc[idx] == 1 and iter[0] <= iter[1]:\n",
        "    count+=1\n",
        "\n",
        "TP = count\n",
        "print(TP)"
      ],
      "metadata": {
        "execution": {
          "iopub.status.busy": "2024-04-21T01:55:13.996348Z",
          "iopub.execute_input": "2024-04-21T01:55:13.997338Z",
          "iopub.status.idle": "2024-04-21T01:55:16.277556Z",
          "shell.execute_reply.started": "2024-04-21T01:55:13.997303Z",
          "shell.execute_reply": "2024-04-21T01:55:16.276649Z"
        },
        "trusted": true,
        "id": "S7qHxy4w0Gt1",
        "outputId": "3233f4f0-011c-433c-a357-54686ef5e6de"
      },
      "execution_count": null,
      "outputs": [
        {
          "name": "stdout",
          "text": "18006\n",
          "output_type": "stream"
        }
      ]
    },
    {
      "cell_type": "code",
      "source": [
        "#True Negatives\n",
        "count = 0\n",
        "for idx,iter in enumerate(y_pred_nn):\n",
        "  if y_test.iloc[idx] == 0 and iter[0] >= iter[1]:\n",
        "    count+=1\n",
        "\n",
        "TN = count\n",
        "print(TN)"
      ],
      "metadata": {
        "execution": {
          "iopub.status.busy": "2024-04-21T01:55:16.279198Z",
          "iopub.execute_input": "2024-04-21T01:55:16.279481Z",
          "iopub.status.idle": "2024-04-21T01:55:18.637711Z",
          "shell.execute_reply.started": "2024-04-21T01:55:16.279457Z",
          "shell.execute_reply": "2024-04-21T01:55:18.636707Z"
        },
        "trusted": true,
        "id": "-Dami2Lm0Gt1",
        "outputId": "3e71625d-a99a-4143-d97d-7f18f7161fdd"
      },
      "execution_count": null,
      "outputs": [
        {
          "name": "stdout",
          "text": "201094\n",
          "output_type": "stream"
        }
      ]
    },
    {
      "cell_type": "code",
      "source": [
        "#False Negatives\n",
        "count = 0\n",
        "for idx,iter in enumerate(y_pred_nn):\n",
        "  if y_test.iloc[idx] == 1 and iter[0] >= iter[1]:\n",
        "    count+=1\n",
        "\n",
        "FN = count\n",
        "print(FN)"
      ],
      "metadata": {
        "execution": {
          "iopub.status.busy": "2024-04-21T01:55:18.639595Z",
          "iopub.execute_input": "2024-04-21T01:55:18.639901Z",
          "iopub.status.idle": "2024-04-21T01:55:20.869899Z",
          "shell.execute_reply.started": "2024-04-21T01:55:18.639876Z",
          "shell.execute_reply": "2024-04-21T01:55:20.869005Z"
        },
        "trusted": true,
        "id": "mMk3yDhU0Gt1",
        "outputId": "a59e36b9-5c66-467f-a84f-0a8dc1ce73f5"
      },
      "execution_count": null,
      "outputs": [
        {
          "name": "stdout",
          "text": "1315\n",
          "output_type": "stream"
        }
      ]
    },
    {
      "cell_type": "code",
      "source": [
        "#False Positives\n",
        "count = 0\n",
        "for idx,iter in enumerate(y_pred_nn):\n",
        "  if y_test.iloc[idx] == 0 and iter[0] <= iter[1]:\n",
        "    count+=1\n",
        "\n",
        "FP = count\n",
        "print(FP)"
      ],
      "metadata": {
        "execution": {
          "iopub.status.busy": "2024-04-21T01:55:25.080987Z",
          "iopub.execute_input": "2024-04-21T01:55:25.081745Z",
          "iopub.status.idle": "2024-04-21T01:55:27.393254Z",
          "shell.execute_reply.started": "2024-04-21T01:55:25.081714Z",
          "shell.execute_reply": "2024-04-21T01:55:27.392276Z"
        },
        "trusted": true,
        "id": "RSJg259Z0Gt1",
        "outputId": "0ad98402-07a3-4474-8dd3-ee313a194016"
      },
      "execution_count": null,
      "outputs": [
        {
          "name": "stdout",
          "text": "565\n",
          "output_type": "stream"
        }
      ]
    },
    {
      "cell_type": "code",
      "source": [
        "y_pred_actual = []\n",
        "for idx,iter in enumerate(y_pred_nn):\n",
        "  if iter[0] <= iter[1]:\n",
        "    y_pred_actual.append(1)\n",
        "  else:\n",
        "    y_pred_actual.append(0)"
      ],
      "metadata": {
        "execution": {
          "iopub.status.busy": "2024-04-21T01:55:34.925613Z",
          "iopub.execute_input": "2024-04-21T01:55:34.925999Z",
          "iopub.status.idle": "2024-04-21T01:55:35.111699Z",
          "shell.execute_reply.started": "2024-04-21T01:55:34.925970Z",
          "shell.execute_reply": "2024-04-21T01:55:35.110980Z"
        },
        "trusted": true,
        "id": "5YNl7A5h0Gt1"
      },
      "execution_count": null,
      "outputs": []
    },
    {
      "cell_type": "code",
      "source": [
        "from sklearn.metrics import accuracy_score, precision_score, recall_score, f1_score\n",
        "\n",
        "accuracy = accuracy_score(y_test, y_pred_actual)\n",
        "print(\"Accuracy:\", accuracy)\n",
        "print(\"By hand Accuracy :\", (TP+TN)/(TP+TN+FP+FN))\n",
        "\n",
        "\n",
        "precision = precision_score(y_test, y_pred_actual)\n",
        "print(\"Precision:\", precision)\n",
        "print(\"By hand Precision :\", (TP)/(TP+FP))\n",
        "\n",
        "recall = recall_score(y_test, y_pred_actual)\n",
        "print(\"Recall:\", recall)\n",
        "print(\"By hand Recall :\", (TP)/(TP+FN))\n",
        "\n",
        "f1 = f1_score(y_test, y_pred_actual)\n",
        "print(\"F1-score:\", f1)\n",
        "print(\"By hand F1-score :\", (2*TP)/(2*TP+FN+FP))\n"
      ],
      "metadata": {
        "execution": {
          "iopub.status.busy": "2024-04-21T01:55:52.421275Z",
          "iopub.execute_input": "2024-04-21T01:55:52.421637Z",
          "iopub.status.idle": "2024-04-21T01:55:53.271250Z",
          "shell.execute_reply.started": "2024-04-21T01:55:52.421609Z",
          "shell.execute_reply": "2024-04-21T01:55:53.270329Z"
        },
        "trusted": true,
        "id": "hXPbWYkv0Gt2",
        "outputId": "4c5cb5f9-9396-4d01-a290-db00b2ed06f9"
      },
      "execution_count": null,
      "outputs": [
        {
          "name": "stdout",
          "text": "Accuracy: 0.9914924427550005\nBy hand Accuracy : 0.9914924427550005\nPrecision: 0.9695762209897152\nBy hand Precision : 0.9695762209897152\nRecall: 0.9319393406138399\nBy hand Recall : 0.9319393406138399\nF1-score: 0.9503853056054049\nBy hand F1-score : 0.9503853056054048\n",
          "output_type": "stream"
        }
      ]
    },
    {
      "cell_type": "code",
      "source": [
        "###      ROC CURVE\n",
        "from sklearn.metrics import roc_curve, auc\n",
        "import matplotlib.pyplot as plt\n",
        "\n",
        "y_scores = y_pred_nn[:, 1]\n",
        "fpr, tpr, thresholds = roc_curve(y_test, y_scores)\n",
        "\n",
        "roc_auc = auc(fpr, tpr)\n",
        "\n",
        "# Plot ROC curve\n",
        "plt.figure()\n",
        "plt.plot(fpr, tpr, color='darkorange', lw=2, label='ROC curve (area = %0.9f)' % roc_auc)\n",
        "plt.plot([0, 1], [0, 1], color='navy', lw=2, linestyle='--')\n",
        "plt.xlabel('False Positive Rate')\n",
        "plt.ylabel('True Positive Rate')\n",
        "plt.title('Receiver Operating Characteristic (ROC) Curve')\n",
        "plt.legend(loc=\"lower right\")\n",
        "plt.show()\n",
        "\n",
        "# print(\"FPR\" ,fpr)\n",
        "# print(\"FPR By Hand\" ,FP/(FP+TN))\n",
        "# print(\"TPR\" ,tpr)\n",
        "# print(\"TPR By Hand\" ,TP/(TP+FN))"
      ],
      "metadata": {
        "execution": {
          "iopub.status.busy": "2024-04-21T01:56:06.482584Z",
          "iopub.execute_input": "2024-04-21T01:56:06.482963Z",
          "iopub.status.idle": "2024-04-21T01:56:06.878763Z",
          "shell.execute_reply.started": "2024-04-21T01:56:06.482932Z",
          "shell.execute_reply": "2024-04-21T01:56:06.877886Z"
        },
        "trusted": true,
        "id": "VrqHt_vO0Gt2",
        "outputId": "aa1c5bf5-b331-45cb-9b3c-57e90098e2b8"
      },
      "execution_count": null,
      "outputs": [
        {
          "output_type": "display_data",
          "data": {
            "text/plain": "<Figure size 640x480 with 1 Axes>",
            "image/png": "[encoded data removed]"
          },
          "metadata": {}
        }
      ]
    },
    {
      "cell_type": "code",
      "source": [
        "#Confusion Matrix\n",
        "from sklearn.metrics import confusion_matrix\n",
        "cm = confusion_matrix(y_test, y_pred_actual)\n",
        "\n",
        "print(set(y_test))\n",
        "# Plot confusion matrix\n",
        "labels = list(set(y_test))\n",
        "import seaborn as sns\n",
        "import matplotlib.pyplot as plt\n",
        "plt.figure(figsize=(12, 10))\n",
        "sns.heatmap(cm, annot=True, fmt='d', cmap='Blues', xticklabels=labels, yticklabels=labels)\n",
        "plt.xlabel('Predicted Label')\n",
        "plt.ylabel('True Label')\n",
        "plt.title('Confusion Matrix')\n",
        "plt.show()"
      ],
      "metadata": {
        "execution": {
          "iopub.status.busy": "2024-04-21T01:56:21.466274Z",
          "iopub.execute_input": "2024-04-21T01:56:21.466993Z",
          "iopub.status.idle": "2024-04-21T01:56:22.381725Z",
          "shell.execute_reply.started": "2024-04-21T01:56:21.466960Z",
          "shell.execute_reply": "2024-04-21T01:56:22.380756Z"
        },
        "trusted": true,
        "id": "IHIGaVKP0Gt2",
        "outputId": "67a8bc93-be71-4d3c-ec11-cc900a8b8dfd"
      },
      "execution_count": null,
      "outputs": [
        {
          "name": "stdout",
          "text": "{0, 1}\n",
          "output_type": "stream"
        },
        {
          "output_type": "display_data",
          "data": {
            "text/plain": "<Figure size 1200x1000 with 2 Axes>",
            "image/png": "[encoded data removed]"
          },
          "metadata": {}
        }
      ]
    }
  ]
}